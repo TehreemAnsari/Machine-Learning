{
 "cells": [
  {
   "cell_type": "code",
   "execution_count": 1,
   "metadata": {
    "collapsed": true
   },
   "outputs": [],
   "source": [
    "import pandas as pd"
   ]
  },
  {
   "cell_type": "code",
   "execution_count": 5,
   "metadata": {},
   "outputs": [
    {
     "name": "stdout",
     "output_type": "stream",
     "text": [
      "Total rows in ratings.csv= 981756\n"
     ]
    },
    {
     "data": {
      "text/html": [
       "<div>\n",
       "<style>\n",
       "    .dataframe thead tr:only-child th {\n",
       "        text-align: right;\n",
       "    }\n",
       "\n",
       "    .dataframe thead th {\n",
       "        text-align: left;\n",
       "    }\n",
       "\n",
       "    .dataframe tbody tr th {\n",
       "        vertical-align: top;\n",
       "    }\n",
       "</style>\n",
       "<table border=\"1\" class=\"dataframe\">\n",
       "  <thead>\n",
       "    <tr style=\"text-align: right;\">\n",
       "      <th></th>\n",
       "      <th>book_id</th>\n",
       "      <th>user_id</th>\n",
       "      <th>rating</th>\n",
       "    </tr>\n",
       "  </thead>\n",
       "  <tbody>\n",
       "    <tr>\n",
       "      <th>0</th>\n",
       "      <td>1</td>\n",
       "      <td>314</td>\n",
       "      <td>5</td>\n",
       "    </tr>\n",
       "    <tr>\n",
       "      <th>1</th>\n",
       "      <td>1</td>\n",
       "      <td>439</td>\n",
       "      <td>3</td>\n",
       "    </tr>\n",
       "    <tr>\n",
       "      <th>2</th>\n",
       "      <td>1</td>\n",
       "      <td>588</td>\n",
       "      <td>5</td>\n",
       "    </tr>\n",
       "    <tr>\n",
       "      <th>3</th>\n",
       "      <td>1</td>\n",
       "      <td>1169</td>\n",
       "      <td>4</td>\n",
       "    </tr>\n",
       "    <tr>\n",
       "      <th>4</th>\n",
       "      <td>1</td>\n",
       "      <td>1185</td>\n",
       "      <td>4</td>\n",
       "    </tr>\n",
       "  </tbody>\n",
       "</table>\n",
       "</div>"
      ],
      "text/plain": [
       "   book_id  user_id  rating\n",
       "0        1      314       5\n",
       "1        1      439       3\n",
       "2        1      588       5\n",
       "3        1     1169       4\n",
       "4        1     1185       4"
      ]
     },
     "execution_count": 5,
     "metadata": {},
     "output_type": "execute_result"
    }
   ],
   "source": [
    "#getting the data from CSV file\n",
    "data = pd.read_csv(\"ratings.csv\")\n",
    "print (\"Total rows in ratings.csv=\", len(data))\n",
    "data.head()"
   ]
  },
  {
   "cell_type": "code",
   "execution_count": 7,
   "metadata": {},
   "outputs": [
    {
     "name": "stdout",
     "output_type": "stream",
     "text": [
      "53424 unique users\n",
      "10000 unique books\n"
     ]
    }
   ],
   "source": [
    "print(len(data.groupby('user_id')), \"unique users\")\n",
    "print(len(data.groupby('book_id')), \"unique books\")"
   ]
  },
  {
   "cell_type": "code",
   "execution_count": 46,
   "metadata": {},
   "outputs": [],
   "source": [
    "#Refer: https://docs.opencv.org/3.0-beta/doc/py_tutorials/py_ml/py_kmeans/py_kmeans_opencv/py_kmeans_opencv.html\n",
    "import cv2\n",
    "import numpy as np\n",
    "from matplotlib import pyplot as plt\n",
    "\n",
    "w=np.array(data.book_id)\n",
    "x=np.array(data.user_id)\n",
    "y=np.array(data.rating)\n",
    "\n",
    "z = np.column_stack((w,x,y))\n",
    "z = np.float32(z)\n",
    "\n",
    "#For single feature use hstack, for multiple feature use vstack or column_stack.\n",
    "#hstack -vs- vstack -vs- column_stack: https://stackoverflow.com/questions/16473042/numpy-vstack-vs-column-stack"
   ]
  },
  {
   "cell_type": "code",
   "execution_count": 47,
   "metadata": {
    "collapsed": true
   },
   "outputs": [],
   "source": [
    "# Define criteria = ( type, max_iter = 100 , epsilon = 1.0 )\n",
    "criteria = (cv2.TERM_CRITERIA_EPS + cv2.TERM_CRITERIA_MAX_ITER, 100, 1.0)"
   ]
  },
  {
   "cell_type": "code",
   "execution_count": 55,
   "metadata": {},
   "outputs": [],
   "source": [
    "# Apply KMeans\n",
    "k=20\n",
    "compactness,labels,centers = cv2.kmeans(z,k,None,criteria,10,cv2.KMEANS_RANDOM_CENTERS)\n",
    "#25 is the hardcoded value for number of clusters"
   ]
  },
  {
   "cell_type": "code",
   "execution_count": 56,
   "metadata": {},
   "outputs": [
    {
     "name": "stdout",
     "output_type": "stream",
     "text": [
      "Total size of z =  981756\n"
     ]
    }
   ],
   "source": [
    "print(\"Total size of z = \", len(z))"
   ]
  },
  {
   "cell_type": "code",
   "execution_count": 57,
   "metadata": {
    "collapsed": true
   },
   "outputs": [],
   "source": [
    "A = z[labels.ravel()==0]\n",
    "B = z[labels.ravel()==1]\n",
    "C = z[labels.ravel()==2]\n",
    "D = z[labels.ravel()==3]\n",
    "E = z[labels.ravel()==4]\n",
    "\n",
    "F = z[labels.ravel()==5]\n",
    "G = z[labels.ravel()==6]\n",
    "H = z[labels.ravel()==7]\n",
    "I = z[labels.ravel()==8]\n",
    "J = z[labels.ravel()==9]\n",
    "\n",
    "K = z[labels.ravel()==10]\n",
    "L = z[labels.ravel()==11]\n",
    "M = z[labels.ravel()==12]\n",
    "N = z[labels.ravel()==13]\n",
    "O = z[labels.ravel()==14]\n",
    "\n",
    "P = z[labels.ravel()==15]\n",
    "Q = z[labels.ravel()==16]\n",
    "R = z[labels.ravel()==17]\n",
    "S = z[labels.ravel()==18]\n",
    "T = z[labels.ravel()==19]\n"
   ]
  },
  {
   "cell_type": "code",
   "execution_count": 58,
   "metadata": {},
   "outputs": [
    {
     "name": "stdout",
     "output_type": "stream",
     "text": [
      "CLUSTER SIZES ARE :\n",
      "cluster  A  is: 42983\n",
      "cluster  B  is: 47682\n",
      "cluster  C  is: 54458\n",
      "cluster  D  is: 46493\n",
      "cluster  E  is: 42023\n",
      "cluster  F  is: 50913\n",
      "cluster  G  is: 54067\n",
      "cluster  H  is: 52927\n",
      "cluster  I  is: 50430\n",
      "cluster  J  is: 53451\n",
      "cluster  K  is: 49299\n",
      "cluster  L  is: 48793\n",
      "cluster  M  is: 50376\n",
      "cluster  N  is: 49358\n",
      "cluster  O  is: 48625\n",
      "cluster  P  is: 49406\n",
      "cluster  Q  is: 40464\n",
      "cluster  R  is: 50264\n",
      "cluster  S  is: 45138\n",
      "cluster  T  is: 54606\n",
      "Total size: 981756\n"
     ]
    }
   ],
   "source": [
    "#printing Each cluster sizes :\n",
    "size=0\n",
    "print (\"CLUSTER SIZES ARE :\")\n",
    "for i in range(k):\n",
    "    t=chr(65+i)\n",
    "    curr_size=len(eval(t))\n",
    "    print (\"cluster \", t, \" is:\", curr_size)\n",
    "    size=size+curr_size\n",
    "    \n",
    "print(\"Total size:\",size)"
   ]
  },
  {
   "cell_type": "code",
   "execution_count": 87,
   "metadata": {},
   "outputs": [
    {
     "name": "stdout",
     "output_type": "stream",
     "text": [
      "Number of samples to pick from each cluster= 42\n"
     ]
    }
   ],
   "source": [
    "#Roughly all the clusteres are of similar sizes. Hence pick any (cluster size)/(number of clusters).\n",
    "cluster_sample=int(len(A)/(k*50))\n",
    "print (\"Number of samples to pick from each cluster=\", cluster_sample)"
   ]
  },
  {
   "cell_type": "code",
   "execution_count": 88,
   "metadata": {
    "scrolled": true
   },
   "outputs": [
    {
     "name": "stdout",
     "output_type": "stream",
     "text": [
      "dataSampled size =  42\n"
     ]
    }
   ],
   "source": [
    "#Now we know the number of data to be picked from each cluster so, we randomly pick same number of data from each.\n",
    "#random.sample(population, k):Return a k length list of unique elements chosen from the population sequence. \n",
    "#Used for random sampling without replacement.\n",
    "import random\n",
    "dataSampled = random.sample(list(A), cluster_sample)\n",
    "print (\"dataSampled size = \", len(dataSampled))\n",
    "#t=chr(66+0)\n",
    "#print(chr(66+0))\n",
    "#print(t)\n",
    "#dataSampled2 =random.sample(list(eval(t)), cluster_sample)\n",
    "#print (\"dataSampled2 size = \", len(dataSampled2))\n",
    "\n"
   ]
  },
  {
   "cell_type": "code",
   "execution_count": 89,
   "metadata": {},
   "outputs": [
    {
     "name": "stdout",
     "output_type": "stream",
     "text": [
      "Sample from cluster  B\n",
      "Sample from cluster  C\n",
      "Sample from cluster  D\n",
      "Sample from cluster  E\n",
      "Sample from cluster  F\n",
      "Sample from cluster  G\n",
      "Sample from cluster  H\n",
      "Sample from cluster  I\n",
      "Sample from cluster  J\n",
      "Sample from cluster  K\n",
      "Sample from cluster  L\n",
      "Sample from cluster  M\n",
      "Sample from cluster  N\n",
      "Sample from cluster  O\n",
      "Sample from cluster  P\n",
      "Sample from cluster  Q\n",
      "Sample from cluster  R\n",
      "Sample from cluster  S\n",
      "Sample from cluster  T\n",
      "length of dataSampled =  840\n",
      "42 * 20 = 840\n"
     ]
    }
   ],
   "source": [
    "import itertools\n",
    "for i in range(k-1):\n",
    "    temp=chr(66+i)\n",
    "    print(\"Sample from cluster \",temp)\n",
    "    t=random.sample(list(eval(temp)), cluster_sample)\n",
    "    dataSampled = itertools.chain(dataSampled,t)\n",
    "dataSampled = list(dataSampled)\n",
    "print(\"length of dataSampled = \", len(dataSampled))\n",
    "print(cluster_sample,\"*\", k,\"=\",cluster_sample*k)"
   ]
  },
  {
   "cell_type": "code",
   "execution_count": 90,
   "metadata": {
    "collapsed": true
   },
   "outputs": [],
   "source": [
    "#header of the csv file \n",
    "head=\"book_id, user_id, rating\"\n",
    "np.savetxt(\"Sampled_Kmeans.csv\", dataSampled, delimiter=\",\", header=head,comments='')"
   ]
  }
 ],
 "metadata": {
  "anaconda-cloud": {},
  "kernelspec": {
   "display_name": "Python [default]",
   "language": "python",
   "name": "python3"
  },
  "language_info": {
   "codemirror_mode": {
    "name": "ipython",
    "version": 3
   },
   "file_extension": ".py",
   "mimetype": "text/x-python",
   "name": "python",
   "nbconvert_exporter": "python",
   "pygments_lexer": "ipython3",
   "version": "3.5.2"
  }
 },
 "nbformat": 4,
 "nbformat_minor": 1
}
