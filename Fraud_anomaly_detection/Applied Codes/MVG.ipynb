{
 "cells": [
  {
   "cell_type": "code",
   "execution_count": 46,
   "metadata": {
    "collapsed": true
   },
   "outputs": [],
   "source": [
    "import numpy as np \n",
    "import pandas as pd \n",
    "\n",
    "import matplotlib\n",
    "import matplotlib.pyplot as plt\n",
    "%matplotlib inline"
   ]
  },
  {
   "cell_type": "code",
   "execution_count": 47,
   "metadata": {},
   "outputs": [
    {
     "data": {
      "text/html": [
       "<div>\n",
       "<style>\n",
       "    .dataframe thead tr:only-child th {\n",
       "        text-align: right;\n",
       "    }\n",
       "\n",
       "    .dataframe thead th {\n",
       "        text-align: left;\n",
       "    }\n",
       "\n",
       "    .dataframe tbody tr th {\n",
       "        vertical-align: top;\n",
       "    }\n",
       "</style>\n",
       "<table border=\"1\" class=\"dataframe\">\n",
       "  <thead>\n",
       "    <tr style=\"text-align: right;\">\n",
       "      <th></th>\n",
       "      <th>V1</th>\n",
       "      <th>V2</th>\n",
       "      <th>V3</th>\n",
       "      <th>V4</th>\n",
       "      <th>V5</th>\n",
       "      <th>V6</th>\n",
       "      <th>V7</th>\n",
       "      <th>V8</th>\n",
       "      <th>V9</th>\n",
       "      <th>V10</th>\n",
       "      <th>...</th>\n",
       "      <th>V21</th>\n",
       "      <th>V22</th>\n",
       "      <th>V23</th>\n",
       "      <th>V24</th>\n",
       "      <th>V25</th>\n",
       "      <th>V26</th>\n",
       "      <th>V27</th>\n",
       "      <th>V28</th>\n",
       "      <th>normAmount</th>\n",
       "      <th>Class</th>\n",
       "    </tr>\n",
       "  </thead>\n",
       "  <tbody>\n",
       "    <tr>\n",
       "      <th>0</th>\n",
       "      <td>-10.632375</td>\n",
       "      <td>7.251936</td>\n",
       "      <td>-17.681072</td>\n",
       "      <td>8.204144</td>\n",
       "      <td>-10.166591</td>\n",
       "      <td>-4.510344</td>\n",
       "      <td>-12.981606</td>\n",
       "      <td>6.783589</td>\n",
       "      <td>-4.659330</td>\n",
       "      <td>-14.924655</td>\n",
       "      <td>...</td>\n",
       "      <td>2.715357</td>\n",
       "      <td>0.695603</td>\n",
       "      <td>-1.138122</td>\n",
       "      <td>0.459442</td>\n",
       "      <td>0.386337</td>\n",
       "      <td>0.522438</td>\n",
       "      <td>-1.416604</td>\n",
       "      <td>-0.488307</td>\n",
       "      <td>0.400490</td>\n",
       "      <td>1</td>\n",
       "    </tr>\n",
       "    <tr>\n",
       "      <th>1</th>\n",
       "      <td>0.385108</td>\n",
       "      <td>1.217620</td>\n",
       "      <td>-1.953872</td>\n",
       "      <td>2.087076</td>\n",
       "      <td>-1.144225</td>\n",
       "      <td>-0.576888</td>\n",
       "      <td>-2.582865</td>\n",
       "      <td>0.643230</td>\n",
       "      <td>-1.191233</td>\n",
       "      <td>-3.095094</td>\n",
       "      <td>...</td>\n",
       "      <td>0.594623</td>\n",
       "      <td>0.372144</td>\n",
       "      <td>-0.310456</td>\n",
       "      <td>-0.624065</td>\n",
       "      <td>0.840216</td>\n",
       "      <td>-0.159452</td>\n",
       "      <td>0.599482</td>\n",
       "      <td>0.288916</td>\n",
       "      <td>-0.321245</td>\n",
       "      <td>1</td>\n",
       "    </tr>\n",
       "    <tr>\n",
       "      <th>2</th>\n",
       "      <td>-1.157678</td>\n",
       "      <td>0.079901</td>\n",
       "      <td>1.790682</td>\n",
       "      <td>-1.968303</td>\n",
       "      <td>-0.589608</td>\n",
       "      <td>0.137942</td>\n",
       "      <td>-0.641184</td>\n",
       "      <td>0.551862</td>\n",
       "      <td>-1.028029</td>\n",
       "      <td>0.331934</td>\n",
       "      <td>...</td>\n",
       "      <td>0.482099</td>\n",
       "      <td>1.359236</td>\n",
       "      <td>-0.271784</td>\n",
       "      <td>-0.269525</td>\n",
       "      <td>0.063426</td>\n",
       "      <td>-0.189034</td>\n",
       "      <td>-0.062240</td>\n",
       "      <td>-0.139962</td>\n",
       "      <td>-0.315248</td>\n",
       "      <td>0</td>\n",
       "    </tr>\n",
       "    <tr>\n",
       "      <th>3</th>\n",
       "      <td>0.225537</td>\n",
       "      <td>-0.271419</td>\n",
       "      <td>0.500382</td>\n",
       "      <td>-1.936124</td>\n",
       "      <td>-0.383645</td>\n",
       "      <td>-0.294170</td>\n",
       "      <td>-0.009929</td>\n",
       "      <td>0.088852</td>\n",
       "      <td>-0.790604</td>\n",
       "      <td>0.253379</td>\n",
       "      <td>...</td>\n",
       "      <td>0.298460</td>\n",
       "      <td>0.723612</td>\n",
       "      <td>-0.067666</td>\n",
       "      <td>-0.513540</td>\n",
       "      <td>-0.389335</td>\n",
       "      <td>-0.240228</td>\n",
       "      <td>0.047369</td>\n",
       "      <td>0.026852</td>\n",
       "      <td>-0.201302</td>\n",
       "      <td>0</td>\n",
       "    </tr>\n",
       "    <tr>\n",
       "      <th>4</th>\n",
       "      <td>1.269172</td>\n",
       "      <td>0.444892</td>\n",
       "      <td>0.172031</td>\n",
       "      <td>1.022692</td>\n",
       "      <td>0.015860</td>\n",
       "      <td>-0.732037</td>\n",
       "      <td>0.297024</td>\n",
       "      <td>-0.281962</td>\n",
       "      <td>-0.183246</td>\n",
       "      <td>-0.021727</td>\n",
       "      <td>...</td>\n",
       "      <td>0.018769</td>\n",
       "      <td>0.163191</td>\n",
       "      <td>-0.159069</td>\n",
       "      <td>0.072121</td>\n",
       "      <td>0.777835</td>\n",
       "      <td>-0.310421</td>\n",
       "      <td>0.021357</td>\n",
       "      <td>0.019546</td>\n",
       "      <td>-0.332959</td>\n",
       "      <td>0</td>\n",
       "    </tr>\n",
       "  </tbody>\n",
       "</table>\n",
       "<p>5 rows × 30 columns</p>\n",
       "</div>"
      ],
      "text/plain": [
       "          V1        V2         V3        V4         V5        V6         V7  \\\n",
       "0 -10.632375  7.251936 -17.681072  8.204144 -10.166591 -4.510344 -12.981606   \n",
       "1   0.385108  1.217620  -1.953872  2.087076  -1.144225 -0.576888  -2.582865   \n",
       "2  -1.157678  0.079901   1.790682 -1.968303  -0.589608  0.137942  -0.641184   \n",
       "3   0.225537 -0.271419   0.500382 -1.936124  -0.383645 -0.294170  -0.009929   \n",
       "4   1.269172  0.444892   0.172031  1.022692   0.015860 -0.732037   0.297024   \n",
       "\n",
       "         V8        V9        V10  ...         V21       V22       V23  \\\n",
       "0  6.783589 -4.659330 -14.924655  ...    2.715357  0.695603 -1.138122   \n",
       "1  0.643230 -1.191233  -3.095094  ...    0.594623  0.372144 -0.310456   \n",
       "2  0.551862 -1.028029   0.331934  ...    0.482099  1.359236 -0.271784   \n",
       "3  0.088852 -0.790604   0.253379  ...    0.298460  0.723612 -0.067666   \n",
       "4 -0.281962 -0.183246  -0.021727  ...    0.018769  0.163191 -0.159069   \n",
       "\n",
       "        V24       V25       V26       V27       V28  normAmount  Class  \n",
       "0  0.459442  0.386337  0.522438 -1.416604 -0.488307    0.400490      1  \n",
       "1 -0.624065  0.840216 -0.159452  0.599482  0.288916   -0.321245      1  \n",
       "2 -0.269525  0.063426 -0.189034 -0.062240 -0.139962   -0.315248      0  \n",
       "3 -0.513540 -0.389335 -0.240228  0.047369  0.026852   -0.201302      0  \n",
       "4  0.072121  0.777835 -0.310421  0.021357  0.019546   -0.332959      0  \n",
       "\n",
       "[5 rows x 30 columns]"
      ]
     },
     "execution_count": 47,
     "metadata": {},
     "output_type": "execute_result"
    }
   ],
   "source": [
    "data = pd.read_csv(\"../Sampled Dataset/Random 50-50 Sampled Data.csv\")\n",
    "data.head()"
   ]
  },
  {
   "cell_type": "code",
   "execution_count": 48,
   "metadata": {},
   "outputs": [
    {
     "name": "stdout",
     "output_type": "stream",
     "text": [
      "Size of normal_data: 492\n",
      "Size of fraud_data: 492\n"
     ]
    },
    {
     "data": {
      "text/html": [
       "<div>\n",
       "<style>\n",
       "    .dataframe thead tr:only-child th {\n",
       "        text-align: right;\n",
       "    }\n",
       "\n",
       "    .dataframe thead th {\n",
       "        text-align: left;\n",
       "    }\n",
       "\n",
       "    .dataframe tbody tr th {\n",
       "        vertical-align: top;\n",
       "    }\n",
       "</style>\n",
       "<table border=\"1\" class=\"dataframe\">\n",
       "  <thead>\n",
       "    <tr style=\"text-align: right;\">\n",
       "      <th></th>\n",
       "      <th>V1</th>\n",
       "      <th>V2</th>\n",
       "      <th>V3</th>\n",
       "      <th>V4</th>\n",
       "      <th>V5</th>\n",
       "      <th>V6</th>\n",
       "      <th>V7</th>\n",
       "      <th>V8</th>\n",
       "      <th>V9</th>\n",
       "      <th>V10</th>\n",
       "      <th>...</th>\n",
       "      <th>V21</th>\n",
       "      <th>V22</th>\n",
       "      <th>V23</th>\n",
       "      <th>V24</th>\n",
       "      <th>V25</th>\n",
       "      <th>V26</th>\n",
       "      <th>V27</th>\n",
       "      <th>V28</th>\n",
       "      <th>normAmount</th>\n",
       "      <th>Class</th>\n",
       "    </tr>\n",
       "  </thead>\n",
       "  <tbody>\n",
       "    <tr>\n",
       "      <th>2</th>\n",
       "      <td>-1.157678</td>\n",
       "      <td>0.079901</td>\n",
       "      <td>1.790682</td>\n",
       "      <td>-1.968303</td>\n",
       "      <td>-0.589608</td>\n",
       "      <td>0.137942</td>\n",
       "      <td>-0.641184</td>\n",
       "      <td>0.551862</td>\n",
       "      <td>-1.028029</td>\n",
       "      <td>0.331934</td>\n",
       "      <td>...</td>\n",
       "      <td>0.482099</td>\n",
       "      <td>1.359236</td>\n",
       "      <td>-0.271784</td>\n",
       "      <td>-0.269525</td>\n",
       "      <td>0.063426</td>\n",
       "      <td>-0.189034</td>\n",
       "      <td>-0.062240</td>\n",
       "      <td>-0.139962</td>\n",
       "      <td>-0.315248</td>\n",
       "      <td>0</td>\n",
       "    </tr>\n",
       "    <tr>\n",
       "      <th>3</th>\n",
       "      <td>0.225537</td>\n",
       "      <td>-0.271419</td>\n",
       "      <td>0.500382</td>\n",
       "      <td>-1.936124</td>\n",
       "      <td>-0.383645</td>\n",
       "      <td>-0.294170</td>\n",
       "      <td>-0.009929</td>\n",
       "      <td>0.088852</td>\n",
       "      <td>-0.790604</td>\n",
       "      <td>0.253379</td>\n",
       "      <td>...</td>\n",
       "      <td>0.298460</td>\n",
       "      <td>0.723612</td>\n",
       "      <td>-0.067666</td>\n",
       "      <td>-0.513540</td>\n",
       "      <td>-0.389335</td>\n",
       "      <td>-0.240228</td>\n",
       "      <td>0.047369</td>\n",
       "      <td>0.026852</td>\n",
       "      <td>-0.201302</td>\n",
       "      <td>0</td>\n",
       "    </tr>\n",
       "    <tr>\n",
       "      <th>4</th>\n",
       "      <td>1.269172</td>\n",
       "      <td>0.444892</td>\n",
       "      <td>0.172031</td>\n",
       "      <td>1.022692</td>\n",
       "      <td>0.015860</td>\n",
       "      <td>-0.732037</td>\n",
       "      <td>0.297024</td>\n",
       "      <td>-0.281962</td>\n",
       "      <td>-0.183246</td>\n",
       "      <td>-0.021727</td>\n",
       "      <td>...</td>\n",
       "      <td>0.018769</td>\n",
       "      <td>0.163191</td>\n",
       "      <td>-0.159069</td>\n",
       "      <td>0.072121</td>\n",
       "      <td>0.777835</td>\n",
       "      <td>-0.310421</td>\n",
       "      <td>0.021357</td>\n",
       "      <td>0.019546</td>\n",
       "      <td>-0.332959</td>\n",
       "      <td>0</td>\n",
       "    </tr>\n",
       "    <tr>\n",
       "      <th>5</th>\n",
       "      <td>1.446630</td>\n",
       "      <td>-0.223633</td>\n",
       "      <td>-0.175196</td>\n",
       "      <td>-0.662643</td>\n",
       "      <td>-0.557655</td>\n",
       "      <td>-1.386469</td>\n",
       "      <td>0.036918</td>\n",
       "      <td>-0.464033</td>\n",
       "      <td>-1.290823</td>\n",
       "      <td>0.659173</td>\n",
       "      <td>...</td>\n",
       "      <td>0.201798</td>\n",
       "      <td>0.559227</td>\n",
       "      <td>-0.176549</td>\n",
       "      <td>0.453247</td>\n",
       "      <td>0.823024</td>\n",
       "      <td>-0.088026</td>\n",
       "      <td>-0.023094</td>\n",
       "      <td>0.004101</td>\n",
       "      <td>-0.293258</td>\n",
       "      <td>0</td>\n",
       "    </tr>\n",
       "    <tr>\n",
       "      <th>6</th>\n",
       "      <td>1.030805</td>\n",
       "      <td>0.127611</td>\n",
       "      <td>0.311090</td>\n",
       "      <td>0.560450</td>\n",
       "      <td>0.270999</td>\n",
       "      <td>0.779545</td>\n",
       "      <td>-0.232055</td>\n",
       "      <td>0.373149</td>\n",
       "      <td>-0.007200</td>\n",
       "      <td>-0.478029</td>\n",
       "      <td>...</td>\n",
       "      <td>-0.141688</td>\n",
       "      <td>-0.279101</td>\n",
       "      <td>0.289983</td>\n",
       "      <td>-0.676193</td>\n",
       "      <td>-0.145389</td>\n",
       "      <td>0.201962</td>\n",
       "      <td>0.047171</td>\n",
       "      <td>0.020781</td>\n",
       "      <td>-0.313289</td>\n",
       "      <td>0</td>\n",
       "    </tr>\n",
       "  </tbody>\n",
       "</table>\n",
       "<p>5 rows × 30 columns</p>\n",
       "</div>"
      ],
      "text/plain": [
       "         V1        V2        V3        V4        V5        V6        V7  \\\n",
       "2 -1.157678  0.079901  1.790682 -1.968303 -0.589608  0.137942 -0.641184   \n",
       "3  0.225537 -0.271419  0.500382 -1.936124 -0.383645 -0.294170 -0.009929   \n",
       "4  1.269172  0.444892  0.172031  1.022692  0.015860 -0.732037  0.297024   \n",
       "5  1.446630 -0.223633 -0.175196 -0.662643 -0.557655 -1.386469  0.036918   \n",
       "6  1.030805  0.127611  0.311090  0.560450  0.270999  0.779545 -0.232055   \n",
       "\n",
       "         V8        V9       V10  ...         V21       V22       V23  \\\n",
       "2  0.551862 -1.028029  0.331934  ...    0.482099  1.359236 -0.271784   \n",
       "3  0.088852 -0.790604  0.253379  ...    0.298460  0.723612 -0.067666   \n",
       "4 -0.281962 -0.183246 -0.021727  ...    0.018769  0.163191 -0.159069   \n",
       "5 -0.464033 -1.290823  0.659173  ...    0.201798  0.559227 -0.176549   \n",
       "6  0.373149 -0.007200 -0.478029  ...   -0.141688 -0.279101  0.289983   \n",
       "\n",
       "        V24       V25       V26       V27       V28  normAmount  Class  \n",
       "2 -0.269525  0.063426 -0.189034 -0.062240 -0.139962   -0.315248      0  \n",
       "3 -0.513540 -0.389335 -0.240228  0.047369  0.026852   -0.201302      0  \n",
       "4  0.072121  0.777835 -0.310421  0.021357  0.019546   -0.332959      0  \n",
       "5  0.453247  0.823024 -0.088026 -0.023094  0.004101   -0.293258      0  \n",
       "6 -0.676193 -0.145389  0.201962  0.047171  0.020781   -0.313289      0  \n",
       "\n",
       "[5 rows x 30 columns]"
      ]
     },
     "execution_count": 48,
     "metadata": {},
     "output_type": "execute_result"
    }
   ],
   "source": [
    "normal_data = data.loc[data[\"Class\"] == 0]\n",
    "fraud_data = data.loc[data[\"Class\"] == 1]\n",
    "print(\"Size of normal_data:\", len(normal_data))\n",
    "print(\"Size of fraud_data:\", len(fraud_data))\n",
    "normal_data.head()"
   ]
  },
  {
   "cell_type": "code",
   "execution_count": 60,
   "metadata": {},
   "outputs": [
    {
     "data": {
      "image/png": "[encoded data removed]",
      "text/plain": [
       "<matplotlib.figure.Figure at 0x7f6508dc1550>"
      ]
     },
     "metadata": {},
     "output_type": "display_data"
    }
   ],
   "source": [
    "matplotlib.style.use('ggplot')\n",
    "pca_columns = list(data)[0:-2]\n",
    "normal_data[pca_columns].hist(stacked=False, bins=100, figsize=(12,30), layout=(14,2));"
   ]
  },
  {
   "cell_type": "code",
   "execution_count": 61,
   "metadata": {},
   "outputs": [
    {
     "data": {
      "image/png": "[encoded data removed]",
      "text/plain": [
       "<matplotlib.figure.Figure at 0x7f650a796f98>"
      ]
     },
     "metadata": {},
     "output_type": "display_data"
    }
   ],
   "source": [
    "normal_data[\"normAmount\"].loc[normal_data[\"normAmount\"] < 500].hist(bins=100);"
   ]
  },
  {
   "cell_type": "code",
   "execution_count": 62,
   "metadata": {},
   "outputs": [
    {
     "name": "stdout",
     "output_type": "stream",
     "text": [
      "Mean 0.01195579998414635\n",
      "Median -0.2639321378\n"
     ]
    }
   ],
   "source": [
    "print(\"Mean\", normal_data[\"normAmount\"].mean())\n",
    "print(\"Median\", normal_data[\"normAmount\"].median())"
   ]
  },
  {
   "cell_type": "code",
   "execution_count": 63,
   "metadata": {},
   "outputs": [
    {
     "data": {
      "image/png": "[encoded data removed]",
      "text/plain": [
       "<matplotlib.figure.Figure at 0x7f650a9d6198>"
      ]
     },
     "metadata": {},
     "output_type": "display_data"
    }
   ],
   "source": [
    "fraud_data[\"normAmount\"].hist(bins=100);"
   ]
  },
  {
   "cell_type": "code",
   "execution_count": 64,
   "metadata": {},
   "outputs": [
    {
     "name": "stdout",
     "output_type": "stream",
     "text": [
      "Mean Fraudulent 0.13538200280995927\n",
      "Median Fraudulent -0.31624709565\n"
     ]
    }
   ],
   "source": [
    "print(\"Mean Fraudulent\", fraud_data[\"normAmount\"].mean())\n",
    "print(\"Median Fraudulent\", fraud_data[\"normAmount\"].median())"
   ]
  },
  {
   "cell_type": "code",
   "execution_count": 65,
   "metadata": {},
   "outputs": [
    {
     "data": {
      "text/html": [
       "<div>\n",
       "<style>\n",
       "    .dataframe thead tr:only-child th {\n",
       "        text-align: right;\n",
       "    }\n",
       "\n",
       "    .dataframe thead th {\n",
       "        text-align: left;\n",
       "    }\n",
       "\n",
       "    .dataframe tbody tr th {\n",
       "        vertical-align: top;\n",
       "    }\n",
       "</style>\n",
       "<table border=\"1\" class=\"dataframe\">\n",
       "  <thead>\n",
       "    <tr style=\"text-align: right;\">\n",
       "      <th></th>\n",
       "      <th>V1</th>\n",
       "      <th>V2</th>\n",
       "      <th>V3</th>\n",
       "      <th>V4</th>\n",
       "      <th>V5</th>\n",
       "      <th>V6</th>\n",
       "      <th>V7</th>\n",
       "      <th>V8</th>\n",
       "      <th>V9</th>\n",
       "      <th>V10</th>\n",
       "      <th>...</th>\n",
       "      <th>V19</th>\n",
       "      <th>V20</th>\n",
       "      <th>V21</th>\n",
       "      <th>V22</th>\n",
       "      <th>V23</th>\n",
       "      <th>V24</th>\n",
       "      <th>V25</th>\n",
       "      <th>V26</th>\n",
       "      <th>V27</th>\n",
       "      <th>V28</th>\n",
       "    </tr>\n",
       "  </thead>\n",
       "  <tbody>\n",
       "    <tr>\n",
       "      <th>2</th>\n",
       "      <td>-1.157678</td>\n",
       "      <td>0.079901</td>\n",
       "      <td>1.790682</td>\n",
       "      <td>-1.968303</td>\n",
       "      <td>-0.589608</td>\n",
       "      <td>0.137942</td>\n",
       "      <td>-0.641184</td>\n",
       "      <td>0.551862</td>\n",
       "      <td>-1.028029</td>\n",
       "      <td>0.331934</td>\n",
       "      <td>...</td>\n",
       "      <td>-0.282045</td>\n",
       "      <td>0.156501</td>\n",
       "      <td>0.482099</td>\n",
       "      <td>1.359236</td>\n",
       "      <td>-0.271784</td>\n",
       "      <td>-0.269525</td>\n",
       "      <td>0.063426</td>\n",
       "      <td>-0.189034</td>\n",
       "      <td>-0.062240</td>\n",
       "      <td>-0.139962</td>\n",
       "    </tr>\n",
       "    <tr>\n",
       "      <th>3</th>\n",
       "      <td>0.225537</td>\n",
       "      <td>-0.271419</td>\n",
       "      <td>0.500382</td>\n",
       "      <td>-1.936124</td>\n",
       "      <td>-0.383645</td>\n",
       "      <td>-0.294170</td>\n",
       "      <td>-0.009929</td>\n",
       "      <td>0.088852</td>\n",
       "      <td>-0.790604</td>\n",
       "      <td>0.253379</td>\n",
       "      <td>...</td>\n",
       "      <td>0.849369</td>\n",
       "      <td>-0.000638</td>\n",
       "      <td>0.298460</td>\n",
       "      <td>0.723612</td>\n",
       "      <td>-0.067666</td>\n",
       "      <td>-0.513540</td>\n",
       "      <td>-0.389335</td>\n",
       "      <td>-0.240228</td>\n",
       "      <td>0.047369</td>\n",
       "      <td>0.026852</td>\n",
       "    </tr>\n",
       "    <tr>\n",
       "      <th>4</th>\n",
       "      <td>1.269172</td>\n",
       "      <td>0.444892</td>\n",
       "      <td>0.172031</td>\n",
       "      <td>1.022692</td>\n",
       "      <td>0.015860</td>\n",
       "      <td>-0.732037</td>\n",
       "      <td>0.297024</td>\n",
       "      <td>-0.281962</td>\n",
       "      <td>-0.183246</td>\n",
       "      <td>-0.021727</td>\n",
       "      <td>...</td>\n",
       "      <td>-0.244129</td>\n",
       "      <td>-0.050330</td>\n",
       "      <td>0.018769</td>\n",
       "      <td>0.163191</td>\n",
       "      <td>-0.159069</td>\n",
       "      <td>0.072121</td>\n",
       "      <td>0.777835</td>\n",
       "      <td>-0.310421</td>\n",
       "      <td>0.021357</td>\n",
       "      <td>0.019546</td>\n",
       "    </tr>\n",
       "    <tr>\n",
       "      <th>5</th>\n",
       "      <td>1.446630</td>\n",
       "      <td>-0.223633</td>\n",
       "      <td>-0.175196</td>\n",
       "      <td>-0.662643</td>\n",
       "      <td>-0.557655</td>\n",
       "      <td>-1.386469</td>\n",
       "      <td>0.036918</td>\n",
       "      <td>-0.464033</td>\n",
       "      <td>-1.290823</td>\n",
       "      <td>0.659173</td>\n",
       "      <td>...</td>\n",
       "      <td>0.628052</td>\n",
       "      <td>0.125747</td>\n",
       "      <td>0.201798</td>\n",
       "      <td>0.559227</td>\n",
       "      <td>-0.176549</td>\n",
       "      <td>0.453247</td>\n",
       "      <td>0.823024</td>\n",
       "      <td>-0.088026</td>\n",
       "      <td>-0.023094</td>\n",
       "      <td>0.004101</td>\n",
       "    </tr>\n",
       "    <tr>\n",
       "      <th>6</th>\n",
       "      <td>1.030805</td>\n",
       "      <td>0.127611</td>\n",
       "      <td>0.311090</td>\n",
       "      <td>0.560450</td>\n",
       "      <td>0.270999</td>\n",
       "      <td>0.779545</td>\n",
       "      <td>-0.232055</td>\n",
       "      <td>0.373149</td>\n",
       "      <td>-0.007200</td>\n",
       "      <td>-0.478029</td>\n",
       "      <td>...</td>\n",
       "      <td>-1.874661</td>\n",
       "      <td>-0.211864</td>\n",
       "      <td>-0.141688</td>\n",
       "      <td>-0.279101</td>\n",
       "      <td>0.289983</td>\n",
       "      <td>-0.676193</td>\n",
       "      <td>-0.145389</td>\n",
       "      <td>0.201962</td>\n",
       "      <td>0.047171</td>\n",
       "      <td>0.020781</td>\n",
       "    </tr>\n",
       "  </tbody>\n",
       "</table>\n",
       "<p>5 rows × 28 columns</p>\n",
       "</div>"
      ],
      "text/plain": [
       "         V1        V2        V3        V4        V5        V6        V7  \\\n",
       "2 -1.157678  0.079901  1.790682 -1.968303 -0.589608  0.137942 -0.641184   \n",
       "3  0.225537 -0.271419  0.500382 -1.936124 -0.383645 -0.294170 -0.009929   \n",
       "4  1.269172  0.444892  0.172031  1.022692  0.015860 -0.732037  0.297024   \n",
       "5  1.446630 -0.223633 -0.175196 -0.662643 -0.557655 -1.386469  0.036918   \n",
       "6  1.030805  0.127611  0.311090  0.560450  0.270999  0.779545 -0.232055   \n",
       "\n",
       "         V8        V9       V10    ...          V19       V20       V21  \\\n",
       "2  0.551862 -1.028029  0.331934    ...    -0.282045  0.156501  0.482099   \n",
       "3  0.088852 -0.790604  0.253379    ...     0.849369 -0.000638  0.298460   \n",
       "4 -0.281962 -0.183246 -0.021727    ...    -0.244129 -0.050330  0.018769   \n",
       "5 -0.464033 -1.290823  0.659173    ...     0.628052  0.125747  0.201798   \n",
       "6  0.373149 -0.007200 -0.478029    ...    -1.874661 -0.211864 -0.141688   \n",
       "\n",
       "        V22       V23       V24       V25       V26       V27       V28  \n",
       "2  1.359236 -0.271784 -0.269525  0.063426 -0.189034 -0.062240 -0.139962  \n",
       "3  0.723612 -0.067666 -0.513540 -0.389335 -0.240228  0.047369  0.026852  \n",
       "4  0.163191 -0.159069  0.072121  0.777835 -0.310421  0.021357  0.019546  \n",
       "5  0.559227 -0.176549  0.453247  0.823024 -0.088026 -0.023094  0.004101  \n",
       "6 -0.279101  0.289983 -0.676193 -0.145389  0.201962  0.047171  0.020781  \n",
       "\n",
       "[5 rows x 28 columns]"
      ]
     },
     "execution_count": 65,
     "metadata": {},
     "output_type": "execute_result"
    }
   ],
   "source": [
    "normal_pca_data = normal_data[pca_columns]\n",
    "fraud_pca_data = fraud_data[pca_columns]\n",
    "num_test = 65\n",
    "shuffled_data = normal_pca_data.sample(frac=1)[:-num_test].values\n",
    "normal_pca_data.head()"
   ]
  },
  {
   "cell_type": "code",
   "execution_count": 66,
   "metadata": {},
   "outputs": [
    {
     "name": "stdout",
     "output_type": "stream",
     "text": [
      "Size of X: 297     311      311\n",
      "Size of Y: 311      311\n",
      "Size of normal_pca_data: 492\n",
      "Size of fraud_pca_data: 492\n",
      "Size of fraud_data: 492\n"
     ]
    }
   ],
   "source": [
    "X_train = shuffled_data[:-2*num_test]\n",
    "\n",
    "X_valid = np.concatenate([shuffled_data[-2*num_test:-num_test], fraud_pca_data[:246]])\n",
    "y_valid = np.concatenate([np.zeros(num_test), np.ones(246)])\n",
    "\n",
    "X_test = np.concatenate([shuffled_data[-num_test:], fraud_pca_data[246:]])\n",
    "y_test = np.concatenate([np.zeros(num_test), np.ones(246)])\n",
    "\n",
    "print(\"Size of X:\",len(X_train),'   ', len(X_valid), '    ', len(X_test))\n",
    "print(\"Size of Y:\",len(y_valid), '    ', len(y_test))\n",
    "print (\"Size of normal_pca_data:\", len(normal_pca_data))\n",
    "print (\"Size of fraud_pca_data:\", len(fraud_pca_data))\n",
    "print (\"Size of fraud_data:\", len(fraud_data))"
   ]
  },
  {
   "cell_type": "code",
   "execution_count": 67,
   "metadata": {},
   "outputs": [
    {
     "name": "stdout",
     "output_type": "stream",
     "text": [
      "Size of X_Legit  492    y_Legit:  492\n",
      "Size of X_Fraud  492    y_Fraud:  492\n"
     ]
    }
   ],
   "source": [
    "X_Legit = data.query(\"Class==0\").drop([\"normAmount\",\"Class\"],1)\n",
    "y_Legit = data.query(\"Class==0\")[\"Class\"]\n",
    "\n",
    "X_Fraud = data.query(\"Class==1\").drop([\"normAmount\",\"Class\"],1)\n",
    "y_Fraud = data.query(\"Class==1\")[\"Class\"]\n",
    "\n",
    "print(\"Size of X_Legit \",len(X_Legit),'  ', \"y_Legit: \", len(y_Legit))\n",
    "print(\"Size of X_Fraud \",len(X_Fraud),'  ', \"y_Fraud: \", len(y_Fraud))"
   ]
  },
  {
   "cell_type": "code",
   "execution_count": 68,
   "metadata": {
    "collapsed": true
   },
   "outputs": [],
   "source": [
    "def covariance_matrix(X):\n",
    "    m=len(X)\n",
    "    mu = X.mean()\n",
    "    Sigma=0\n",
    "    for i in range(m):\n",
    "        Sigma += np.outer(X[i] - mu, X[i] - mu)\n",
    "    return Sigma / m"
   ]
  },
  {
   "cell_type": "code",
   "execution_count": 69,
   "metadata": {},
   "outputs": [
    {
     "data": {
      "text/plain": [
       "(28, 28)"
      ]
     },
     "execution_count": 69,
     "metadata": {},
     "output_type": "execute_result"
    }
   ],
   "source": [
    "cov_mat = covariance_matrix(X_train)\n",
    "cov_mat_inv = np.linalg.pinv(cov_mat)\n",
    "cov_mat_det = np.linalg.det(cov_mat)\n",
    "np.matrix(cov_mat).shape"
   ]
  },
  {
   "cell_type": "code",
   "execution_count": 70,
   "metadata": {
    "collapsed": true
   },
   "outputs": [],
   "source": [
    "def multi_gauss(x):\n",
    "    n = len(cov_mat)\n",
    "    return (np.exp(-0.5 * np.dot(x, np.dot(cov_mat_inv, x.T))) \n",
    "            / (2. * np.pi)**(n/2.) \n",
    "            / np.sqrt(cov_mat_det))"
   ]
  },
  {
   "cell_type": "code",
   "execution_count": 71,
   "metadata": {},
   "outputs": [
    {
     "name": "stdout",
     "output_type": "stream",
     "text": [
      "0.0\n",
      "0.0\n",
      "2.89025477655e-79\n",
      "1.9279590921e-26\n",
      "1.04098285642e-20\n",
      "0.0\n",
      "0.0\n",
      "0.0\n",
      "0.0\n",
      "0.0\n"
     ]
    }
   ],
   "source": [
    "# Check out some resulting probablilities for Fraud examples\n",
    "#X_Fraud = data.query(\"Class==1\").drop([\"Amount\",\"Class\",\"Time\"],1)\n",
    "for i in range(10):\n",
    "    print(multi_gauss(X_Fraud.iloc[i]))"
   ]
  },
  {
   "cell_type": "code",
   "execution_count": 72,
   "metadata": {},
   "outputs": [
    {
     "name": "stdout",
     "output_type": "stream",
     "text": [
      "163\n",
      "492     655\n",
      "492\n",
      "492\n"
     ]
    }
   ],
   "source": [
    "from sklearn.model_selection import train_test_split\n",
    "X_train_2, X_test_2, y_train_2, y_test_2 = train_test_split(X_Legit, y_Legit, test_size=0.33, random_state=42)\n",
    "print(len(X_test_2))\n",
    "X_test_2 = X_test_2.append(X_Fraud)\n",
    "print(len(X_Fraud),'   ', len(X_test_2))\n",
    "y_test_2 = y_test_2.append(y_Fraud)\n",
    "print (len(X_Legit))\n",
    "print (len(y_Legit))\n",
    "#X_test_2.head()\n",
    "#temp=X_train.head(100)\n",
    "#print type(X_train)"
   ]
  },
  {
   "cell_type": "code",
   "execution_count": 79,
   "metadata": {},
   "outputs": [
    {
     "name": "stdout",
     "output_type": "stream",
     "text": [
      "0.0\n"
     ]
    }
   ],
   "source": [
    "from scipy.stats import multivariate_normal\n",
    "var = multivariate_normal.pdf(X_test_2,X_test_2.mean(), cov_mat)\n",
    "eps=min(var)\n",
    "print(eps)"
   ]
  },
  {
   "cell_type": "code",
   "execution_count": 80,
   "metadata": {},
   "outputs": [
    {
     "data": {
      "image/png": "[encoded data removed]",
      "text/plain": [
       "<matplotlib.figure.Figure at 0x7f6509cf0ac8>"
      ]
     },
     "metadata": {},
     "output_type": "display_data"
    },
    {
     "name": "stdout",
     "output_type": "stream",
     "text": [
      "True Positive= 65 , True Negetive= 196 , False Positive= 50 , False Negetive= 0 \n",
      "\n",
      "The accuracy is 83.922829582 %\n",
      "The recall is 100.0 %\n",
      "The precision is 56.5217391304 %\n",
      "The F1 Score is 72.2222222222 %\n"
     ]
    }
   ],
   "source": [
    "from sklearn.metrics import confusion_matrix\n",
    "from mlxtend.plotting import plot_confusion_matrix\n",
    "def stats(X_test, y_test, eps):\n",
    "    predictions = np.array([multi_gauss(x) <= eps for x in X_test], dtype=bool)\n",
    "    y_test = np.array(y_test, dtype=bool)\n",
    "    CM=confusion_matrix(y_test, predictions)\n",
    "    fig, ax = plot_confusion_matrix(conf_mat=CM)\n",
    "    plt.title(\"---Confusion Matrix---\")\n",
    "    plt.ylabel(\"Actual\")\n",
    "    plt.xlabel(\"Predicted\")\n",
    "    plt.show()\n",
    "    \n",
    "    TP=CM[0,0]\n",
    "    FN=CM[0,1]\n",
    "    FP=CM[1,0]\n",
    "    TN=CM[1,1]\n",
    "    \n",
    "    print(\"True Positive=\",TP,\", True Negetive=\",TN,\", False Positive=\",FP,\", False Negetive=\",FN,\"\\n\")\n",
    "    \n",
    "    accuracy=(TP+TN)/(TP+FP+FN+TN)\n",
    "    recall=TP/(TP+FN)\n",
    "    precision=TP/(TP+FP)\n",
    "    f1=(2*precision*recall)/(precision+recall)\n",
    "    \n",
    "    print(\"The accuracy is \"+str(accuracy*100) + \" %\")\n",
    "    print(\"The recall is \"+ str(recall*100) +\" %\")\n",
    "    print(\"The precision is \"+ str(precision*100) +\" %\")\n",
    "    print(\"The F1 Score is \"+ str(f1*100) +\" %\")\n",
    "\n",
    "stats(X_valid, y_valid, eps)"
   ]
  }
 ],
 "metadata": {
  "anaconda-cloud": {},
  "kernelspec": {
   "display_name": "Python [default]",
   "language": "python",
   "name": "python3"
  },
  "language_info": {
   "codemirror_mode": {
    "name": "ipython",
    "version": 3
   },
   "file_extension": ".py",
   "mimetype": "text/x-python",
   "name": "python",
   "nbconvert_exporter": "python",
   "pygments_lexer": "ipython3",
   "version": "3.5.2"
  }
 },
 "nbformat": 4,
 "nbformat_minor": 1
}
