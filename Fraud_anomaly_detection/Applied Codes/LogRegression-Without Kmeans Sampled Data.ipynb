{
 "cells": [
  {
   "cell_type": "code",
   "execution_count": 1,
   "metadata": {
    "collapsed": true
   },
   "outputs": [],
   "source": [
    "import pandas as pd\n",
    "import matplotlib.pyplot as plt"
   ]
  },
  {
   "cell_type": "code",
   "execution_count": 2,
   "metadata": {},
   "outputs": [
    {
     "data": {
      "text/html": [
       "<div>\n",
       "<style>\n",
       "    .dataframe thead tr:only-child th {\n",
       "        text-align: right;\n",
       "    }\n",
       "\n",
       "    .dataframe thead th {\n",
       "        text-align: left;\n",
       "    }\n",
       "\n",
       "    .dataframe tbody tr th {\n",
       "        vertical-align: top;\n",
       "    }\n",
       "</style>\n",
       "<table border=\"1\" class=\"dataframe\">\n",
       "  <thead>\n",
       "    <tr style=\"text-align: right;\">\n",
       "      <th></th>\n",
       "      <th>V1</th>\n",
       "      <th>V2</th>\n",
       "      <th>V3</th>\n",
       "      <th>V4</th>\n",
       "      <th>V5</th>\n",
       "      <th>V6</th>\n",
       "      <th>V7</th>\n",
       "      <th>V8</th>\n",
       "      <th>V9</th>\n",
       "      <th>V10</th>\n",
       "      <th>...</th>\n",
       "      <th>V21</th>\n",
       "      <th>V22</th>\n",
       "      <th>V23</th>\n",
       "      <th>V24</th>\n",
       "      <th>V25</th>\n",
       "      <th>V26</th>\n",
       "      <th>V27</th>\n",
       "      <th>V28</th>\n",
       "      <th>normAmount</th>\n",
       "      <th>Class</th>\n",
       "    </tr>\n",
       "  </thead>\n",
       "  <tbody>\n",
       "    <tr>\n",
       "      <th>0</th>\n",
       "      <td>-13.086519</td>\n",
       "      <td>7.352148</td>\n",
       "      <td>-18.256576</td>\n",
       "      <td>10.648505</td>\n",
       "      <td>-11.731476</td>\n",
       "      <td>-3.659167</td>\n",
       "      <td>-14.873658</td>\n",
       "      <td>8.810473</td>\n",
       "      <td>-5.418204</td>\n",
       "      <td>-13.202577</td>\n",
       "      <td>...</td>\n",
       "      <td>2.761157</td>\n",
       "      <td>-0.266162</td>\n",
       "      <td>-0.412861</td>\n",
       "      <td>0.519952</td>\n",
       "      <td>-0.743909</td>\n",
       "      <td>-0.167808</td>\n",
       "      <td>-2.498300</td>\n",
       "      <td>-0.711066</td>\n",
       "      <td>-0.305610</td>\n",
       "      <td>1</td>\n",
       "    </tr>\n",
       "    <tr>\n",
       "      <th>1</th>\n",
       "      <td>0.775570</td>\n",
       "      <td>-0.770648</td>\n",
       "      <td>0.936321</td>\n",
       "      <td>1.312951</td>\n",
       "      <td>-1.060369</td>\n",
       "      <td>0.343982</td>\n",
       "      <td>-0.509566</td>\n",
       "      <td>0.281372</td>\n",
       "      <td>0.823800</td>\n",
       "      <td>-0.081314</td>\n",
       "      <td>...</td>\n",
       "      <td>0.064923</td>\n",
       "      <td>-0.121614</td>\n",
       "      <td>-0.206049</td>\n",
       "      <td>-0.029554</td>\n",
       "      <td>0.318518</td>\n",
       "      <td>-0.420916</td>\n",
       "      <td>0.025195</td>\n",
       "      <td>0.054102</td>\n",
       "      <td>0.307804</td>\n",
       "      <td>0</td>\n",
       "    </tr>\n",
       "    <tr>\n",
       "      <th>2</th>\n",
       "      <td>-0.098257</td>\n",
       "      <td>0.277438</td>\n",
       "      <td>0.682605</td>\n",
       "      <td>0.541734</td>\n",
       "      <td>0.744008</td>\n",
       "      <td>0.239270</td>\n",
       "      <td>0.852291</td>\n",
       "      <td>-0.130182</td>\n",
       "      <td>0.684496</td>\n",
       "      <td>-0.425860</td>\n",
       "      <td>...</td>\n",
       "      <td>0.382471</td>\n",
       "      <td>1.551722</td>\n",
       "      <td>-0.164158</td>\n",
       "      <td>0.716621</td>\n",
       "      <td>-0.432961</td>\n",
       "      <td>-0.479633</td>\n",
       "      <td>0.110424</td>\n",
       "      <td>0.034605</td>\n",
       "      <td>-0.235720</td>\n",
       "      <td>0</td>\n",
       "    </tr>\n",
       "    <tr>\n",
       "      <th>3</th>\n",
       "      <td>-1.093755</td>\n",
       "      <td>0.557129</td>\n",
       "      <td>1.603202</td>\n",
       "      <td>0.008525</td>\n",
       "      <td>1.060342</td>\n",
       "      <td>0.071394</td>\n",
       "      <td>0.476971</td>\n",
       "      <td>0.216907</td>\n",
       "      <td>-0.400491</td>\n",
       "      <td>-0.607183</td>\n",
       "      <td>...</td>\n",
       "      <td>-0.046997</td>\n",
       "      <td>-0.050579</td>\n",
       "      <td>-0.460900</td>\n",
       "      <td>-0.290351</td>\n",
       "      <td>0.782954</td>\n",
       "      <td>-0.449391</td>\n",
       "      <td>-0.104006</td>\n",
       "      <td>-0.067875</td>\n",
       "      <td>-0.415446</td>\n",
       "      <td>0</td>\n",
       "    </tr>\n",
       "    <tr>\n",
       "      <th>4</th>\n",
       "      <td>-1.369120</td>\n",
       "      <td>1.099830</td>\n",
       "      <td>1.393934</td>\n",
       "      <td>-0.638975</td>\n",
       "      <td>-0.588518</td>\n",
       "      <td>0.260273</td>\n",
       "      <td>0.216639</td>\n",
       "      <td>0.545081</td>\n",
       "      <td>-0.049583</td>\n",
       "      <td>-0.726512</td>\n",
       "      <td>...</td>\n",
       "      <td>-0.043952</td>\n",
       "      <td>-0.411460</td>\n",
       "      <td>-0.199765</td>\n",
       "      <td>-0.463215</td>\n",
       "      <td>0.240325</td>\n",
       "      <td>-0.432551</td>\n",
       "      <td>-0.427597</td>\n",
       "      <td>-0.019662</td>\n",
       "      <td>-0.176961</td>\n",
       "      <td>0</td>\n",
       "    </tr>\n",
       "  </tbody>\n",
       "</table>\n",
       "<p>5 rows × 30 columns</p>\n",
       "</div>"
      ],
      "text/plain": [
       "          V1        V2         V3         V4         V5        V6         V7  \\\n",
       "0 -13.086519  7.352148 -18.256576  10.648505 -11.731476 -3.659167 -14.873658   \n",
       "1   0.775570 -0.770648   0.936321   1.312951  -1.060369  0.343982  -0.509566   \n",
       "2  -0.098257  0.277438   0.682605   0.541734   0.744008  0.239270   0.852291   \n",
       "3  -1.093755  0.557129   1.603202   0.008525   1.060342  0.071394   0.476971   \n",
       "4  -1.369120  1.099830   1.393934  -0.638975  -0.588518  0.260273   0.216639   \n",
       "\n",
       "         V8        V9        V10  ...         V21       V22       V23  \\\n",
       "0  8.810473 -5.418204 -13.202577  ...    2.761157 -0.266162 -0.412861   \n",
       "1  0.281372  0.823800  -0.081314  ...    0.064923 -0.121614 -0.206049   \n",
       "2 -0.130182  0.684496  -0.425860  ...    0.382471  1.551722 -0.164158   \n",
       "3  0.216907 -0.400491  -0.607183  ...   -0.046997 -0.050579 -0.460900   \n",
       "4  0.545081 -0.049583  -0.726512  ...   -0.043952 -0.411460 -0.199765   \n",
       "\n",
       "        V24       V25       V26       V27       V28  normAmount  Class  \n",
       "0  0.519952 -0.743909 -0.167808 -2.498300 -0.711066   -0.305610      1  \n",
       "1 -0.029554  0.318518 -0.420916  0.025195  0.054102    0.307804      0  \n",
       "2  0.716621 -0.432961 -0.479633  0.110424  0.034605   -0.235720      0  \n",
       "3 -0.290351  0.782954 -0.449391 -0.104006 -0.067875   -0.415446      0  \n",
       "4 -0.463215  0.240325 -0.432551 -0.427597 -0.019662   -0.176961      0  \n",
       "\n",
       "[5 rows x 30 columns]"
      ]
     },
     "execution_count": 2,
     "metadata": {},
     "output_type": "execute_result"
    }
   ],
   "source": [
    "data = pd.read_csv(\"../Sampled Dataset/Without Kmeans 50-50 Sampled.csv\")\n",
    "data.head()"
   ]
  },
  {
   "cell_type": "code",
   "execution_count": 3,
   "metadata": {
    "collapsed": true
   },
   "outputs": [],
   "source": [
    "#data.info()"
   ]
  },
  {
   "cell_type": "code",
   "execution_count": 4,
   "metadata": {
    "collapsed": true
   },
   "outputs": [],
   "source": [
    "X = data.loc[:, data.columns != 'Class']\n",
    "y = data.loc[:, data.columns == 'Class']"
   ]
  },
  {
   "cell_type": "code",
   "execution_count": 5,
   "metadata": {
    "collapsed": true
   },
   "outputs": [],
   "source": [
    "from sklearn.model_selection import train_test_split\n",
    "\n",
    "# Whole dataset\n",
    "X_train, X_test, y_train, y_test = train_test_split(X,y,test_size = 0.3, random_state = 42)"
   ]
  },
  {
   "cell_type": "code",
   "execution_count": 6,
   "metadata": {},
   "outputs": [
    {
     "name": "stdout",
     "output_type": "stream",
     "text": [
      "Number of Genuine transactions train dataset:  688\n",
      "Number of Genuine transactions test dataset:  296\n",
      "Total number of Genuine transactions:  984\n",
      "Number of Fraudulent transactions train dataset:  688\n",
      "Number of Fraudulent transactions test dataset:  296\n",
      "Total number of Fraudulent transactions:  984\n"
     ]
    }
   ],
   "source": [
    "print(\"Number of Genuine transactions train dataset: \", len(X_train))\n",
    "print(\"Number of Genuine transactions test dataset: \", len(X_test))\n",
    "print(\"Total number of Genuine transactions: \", len(X_train)+len(X_test))\n",
    "\n",
    "print(\"Number of Fraudulent transactions train dataset: \", len(y_train))\n",
    "print(\"Number of Fraudulent transactions test dataset: \", len(y_test))\n",
    "print(\"Total number of Fraudulent transactions: \", len(y_train)+len(y_test))"
   ]
  },
  {
   "cell_type": "code",
   "execution_count": 7,
   "metadata": {},
   "outputs": [
    {
     "data": {
      "text/plain": [
       "LogisticRegression(C=1.0, class_weight=None, dual=False, fit_intercept=True,\n",
       "          intercept_scaling=1, max_iter=100, multi_class='ovr', n_jobs=1,\n",
       "          penalty='l2', random_state=None, solver='liblinear', tol=0.0001,\n",
       "          verbose=0, warm_start=False)"
      ]
     },
     "execution_count": 7,
     "metadata": {},
     "output_type": "execute_result"
    }
   ],
   "source": [
    "from sklearn.linear_model import LogisticRegression\n",
    "LogReg = LogisticRegression()\n",
    "LogReg.fit(X_train, y_train.values.ravel())"
   ]
  },
  {
   "cell_type": "code",
   "execution_count": 8,
   "metadata": {
    "collapsed": true
   },
   "outputs": [],
   "source": [
    "y_pred = LogReg.predict(X_test)"
   ]
  },
  {
   "cell_type": "code",
   "execution_count": 9,
   "metadata": {},
   "outputs": [
    {
     "data": {
      "image/png": "[encoded data removed]",
      "text/plain": [
       "<matplotlib.figure.Figure at 0x7ff23ea2f160>"
      ]
     },
     "metadata": {},
     "output_type": "display_data"
    },
    {
     "name": "stdout",
     "output_type": "stream",
     "text": [
      "True Positive= 131 , True Negetive= 141 , False Positive= 15 , False Negetive= 9 \n",
      "\n",
      "The accuracy is 91.8918918919 %\n",
      "The recall is 93.5714285714 %\n",
      "The precision is 89.7260273973 %\n",
      "The F1 Score is 91.6083916084 %\n"
     ]
    }
   ],
   "source": [
    "from sklearn.metrics import confusion_matrix\n",
    "from mlxtend.plotting import plot_confusion_matrix\n",
    "\n",
    "cm1 = confusion_matrix(y_test, y_pred)\n",
    "\n",
    "def confusion_matrix_1(CM):\n",
    "    fig, ax = plot_confusion_matrix(conf_mat=CM)\n",
    "    plt.title(\"---Confusion Matrix---\")\n",
    "    plt.ylabel(\"Actual\")\n",
    "    plt.xlabel(\"Predicted\")\n",
    "    plt.show()\n",
    "    \n",
    "    TP=CM[0,0]\n",
    "    FN=CM[0,1]\n",
    "    FP=CM[1,0]\n",
    "    TN=CM[1,1]\n",
    "    \n",
    "    print(\"True Positive=\",TP,\", True Negetive=\",TN,\", False Positive=\",FP,\", False Negetive=\",FN,\"\\n\")\n",
    "    \n",
    "    accuracy=(TP+TN)/(TP+FP+FN+TN)\n",
    "    recall=TP/(TP+FN)\n",
    "    precision=TP/(TP+FP)\n",
    "    f1=(2*precision*recall)/(precision+recall)\n",
    "    \n",
    "    print(\"The accuracy is \"+str(accuracy*100) + \" %\")\n",
    "    print(\"The recall is \"+ str(recall*100) +\" %\")\n",
    "    print(\"The precision is \"+ str(precision*100) +\" %\")\n",
    "    print(\"The F1 Score is \"+ str(f1*100) +\" %\")\n",
    "        \n",
    "confusion_matrix_1(cm1)"
   ]
  },
  {
   "cell_type": "code",
   "execution_count": null,
   "metadata": {
    "collapsed": true
   },
   "outputs": [],
   "source": []
  }
 ],
 "metadata": {
  "anaconda-cloud": {},
  "kernelspec": {
   "display_name": "Python [default]",
   "language": "python",
   "name": "python3"
  },
  "language_info": {
   "codemirror_mode": {
    "name": "ipython",
    "version": 3
   },
   "file_extension": ".py",
   "mimetype": "text/x-python",
   "name": "python",
   "nbconvert_exporter": "python",
   "pygments_lexer": "ipython3",
   "version": "3.5.2"
  }
 },
 "nbformat": 4,
 "nbformat_minor": 1
}
