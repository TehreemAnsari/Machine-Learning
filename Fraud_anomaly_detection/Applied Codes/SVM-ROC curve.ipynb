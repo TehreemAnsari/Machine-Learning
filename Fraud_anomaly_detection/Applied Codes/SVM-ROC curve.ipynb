{
 "cells": [
  {
   "cell_type": "code",
   "execution_count": 1,
   "metadata": {
    "collapsed": true
   },
   "outputs": [],
   "source": [
    "import pandas as pd\n",
    "import matplotlib.pyplot as plt"
   ]
  },
  {
   "cell_type": "code",
   "execution_count": 2,
   "metadata": {},
   "outputs": [
    {
     "data": {
      "text/html": [
       "<div>\n",
       "<style>\n",
       "    .dataframe thead tr:only-child th {\n",
       "        text-align: right;\n",
       "    }\n",
       "\n",
       "    .dataframe thead th {\n",
       "        text-align: left;\n",
       "    }\n",
       "\n",
       "    .dataframe tbody tr th {\n",
       "        vertical-align: top;\n",
       "    }\n",
       "</style>\n",
       "<table border=\"1\" class=\"dataframe\">\n",
       "  <thead>\n",
       "    <tr style=\"text-align: right;\">\n",
       "      <th></th>\n",
       "      <th>V1</th>\n",
       "      <th>V2</th>\n",
       "      <th>V3</th>\n",
       "      <th>V4</th>\n",
       "      <th>V5</th>\n",
       "      <th>V6</th>\n",
       "      <th>V7</th>\n",
       "      <th>V8</th>\n",
       "      <th>V9</th>\n",
       "      <th>V10</th>\n",
       "      <th>...</th>\n",
       "      <th>V21</th>\n",
       "      <th>V22</th>\n",
       "      <th>V23</th>\n",
       "      <th>V24</th>\n",
       "      <th>V25</th>\n",
       "      <th>V26</th>\n",
       "      <th>V27</th>\n",
       "      <th>V28</th>\n",
       "      <th>normAmount</th>\n",
       "      <th>Class</th>\n",
       "    </tr>\n",
       "  </thead>\n",
       "  <tbody>\n",
       "    <tr>\n",
       "      <th>0</th>\n",
       "      <td>-10.632375</td>\n",
       "      <td>7.251936</td>\n",
       "      <td>-17.681072</td>\n",
       "      <td>8.204144</td>\n",
       "      <td>-10.166591</td>\n",
       "      <td>-4.510344</td>\n",
       "      <td>-12.981606</td>\n",
       "      <td>6.783589</td>\n",
       "      <td>-4.659330</td>\n",
       "      <td>-14.924655</td>\n",
       "      <td>...</td>\n",
       "      <td>2.715357</td>\n",
       "      <td>0.695603</td>\n",
       "      <td>-1.138122</td>\n",
       "      <td>0.459442</td>\n",
       "      <td>0.386337</td>\n",
       "      <td>0.522438</td>\n",
       "      <td>-1.416604</td>\n",
       "      <td>-0.488307</td>\n",
       "      <td>0.400490</td>\n",
       "      <td>1</td>\n",
       "    </tr>\n",
       "    <tr>\n",
       "      <th>1</th>\n",
       "      <td>0.385108</td>\n",
       "      <td>1.217620</td>\n",
       "      <td>-1.953872</td>\n",
       "      <td>2.087076</td>\n",
       "      <td>-1.144225</td>\n",
       "      <td>-0.576888</td>\n",
       "      <td>-2.582865</td>\n",
       "      <td>0.643230</td>\n",
       "      <td>-1.191233</td>\n",
       "      <td>-3.095094</td>\n",
       "      <td>...</td>\n",
       "      <td>0.594623</td>\n",
       "      <td>0.372144</td>\n",
       "      <td>-0.310456</td>\n",
       "      <td>-0.624065</td>\n",
       "      <td>0.840216</td>\n",
       "      <td>-0.159452</td>\n",
       "      <td>0.599482</td>\n",
       "      <td>0.288916</td>\n",
       "      <td>-0.321245</td>\n",
       "      <td>1</td>\n",
       "    </tr>\n",
       "    <tr>\n",
       "      <th>2</th>\n",
       "      <td>-1.157678</td>\n",
       "      <td>0.079901</td>\n",
       "      <td>1.790682</td>\n",
       "      <td>-1.968303</td>\n",
       "      <td>-0.589608</td>\n",
       "      <td>0.137942</td>\n",
       "      <td>-0.641184</td>\n",
       "      <td>0.551862</td>\n",
       "      <td>-1.028029</td>\n",
       "      <td>0.331934</td>\n",
       "      <td>...</td>\n",
       "      <td>0.482099</td>\n",
       "      <td>1.359236</td>\n",
       "      <td>-0.271784</td>\n",
       "      <td>-0.269525</td>\n",
       "      <td>0.063426</td>\n",
       "      <td>-0.189034</td>\n",
       "      <td>-0.062240</td>\n",
       "      <td>-0.139962</td>\n",
       "      <td>-0.315248</td>\n",
       "      <td>0</td>\n",
       "    </tr>\n",
       "    <tr>\n",
       "      <th>3</th>\n",
       "      <td>0.225537</td>\n",
       "      <td>-0.271419</td>\n",
       "      <td>0.500382</td>\n",
       "      <td>-1.936124</td>\n",
       "      <td>-0.383645</td>\n",
       "      <td>-0.294170</td>\n",
       "      <td>-0.009929</td>\n",
       "      <td>0.088852</td>\n",
       "      <td>-0.790604</td>\n",
       "      <td>0.253379</td>\n",
       "      <td>...</td>\n",
       "      <td>0.298460</td>\n",
       "      <td>0.723612</td>\n",
       "      <td>-0.067666</td>\n",
       "      <td>-0.513540</td>\n",
       "      <td>-0.389335</td>\n",
       "      <td>-0.240228</td>\n",
       "      <td>0.047369</td>\n",
       "      <td>0.026852</td>\n",
       "      <td>-0.201302</td>\n",
       "      <td>0</td>\n",
       "    </tr>\n",
       "    <tr>\n",
       "      <th>4</th>\n",
       "      <td>1.269172</td>\n",
       "      <td>0.444892</td>\n",
       "      <td>0.172031</td>\n",
       "      <td>1.022692</td>\n",
       "      <td>0.015860</td>\n",
       "      <td>-0.732037</td>\n",
       "      <td>0.297024</td>\n",
       "      <td>-0.281962</td>\n",
       "      <td>-0.183246</td>\n",
       "      <td>-0.021727</td>\n",
       "      <td>...</td>\n",
       "      <td>0.018769</td>\n",
       "      <td>0.163191</td>\n",
       "      <td>-0.159069</td>\n",
       "      <td>0.072121</td>\n",
       "      <td>0.777835</td>\n",
       "      <td>-0.310421</td>\n",
       "      <td>0.021357</td>\n",
       "      <td>0.019546</td>\n",
       "      <td>-0.332959</td>\n",
       "      <td>0</td>\n",
       "    </tr>\n",
       "  </tbody>\n",
       "</table>\n",
       "<p>5 rows × 30 columns</p>\n",
       "</div>"
      ],
      "text/plain": [
       "          V1        V2         V3        V4         V5        V6         V7  \\\n",
       "0 -10.632375  7.251936 -17.681072  8.204144 -10.166591 -4.510344 -12.981606   \n",
       "1   0.385108  1.217620  -1.953872  2.087076  -1.144225 -0.576888  -2.582865   \n",
       "2  -1.157678  0.079901   1.790682 -1.968303  -0.589608  0.137942  -0.641184   \n",
       "3   0.225537 -0.271419   0.500382 -1.936124  -0.383645 -0.294170  -0.009929   \n",
       "4   1.269172  0.444892   0.172031  1.022692   0.015860 -0.732037   0.297024   \n",
       "\n",
       "         V8        V9        V10  ...         V21       V22       V23  \\\n",
       "0  6.783589 -4.659330 -14.924655  ...    2.715357  0.695603 -1.138122   \n",
       "1  0.643230 -1.191233  -3.095094  ...    0.594623  0.372144 -0.310456   \n",
       "2  0.551862 -1.028029   0.331934  ...    0.482099  1.359236 -0.271784   \n",
       "3  0.088852 -0.790604   0.253379  ...    0.298460  0.723612 -0.067666   \n",
       "4 -0.281962 -0.183246  -0.021727  ...    0.018769  0.163191 -0.159069   \n",
       "\n",
       "        V24       V25       V26       V27       V28  normAmount  Class  \n",
       "0  0.459442  0.386337  0.522438 -1.416604 -0.488307    0.400490      1  \n",
       "1 -0.624065  0.840216 -0.159452  0.599482  0.288916   -0.321245      1  \n",
       "2 -0.269525  0.063426 -0.189034 -0.062240 -0.139962   -0.315248      0  \n",
       "3 -0.513540 -0.389335 -0.240228  0.047369  0.026852   -0.201302      0  \n",
       "4  0.072121  0.777835 -0.310421  0.021357  0.019546   -0.332959      0  \n",
       "\n",
       "[5 rows x 30 columns]"
      ]
     },
     "execution_count": 2,
     "metadata": {},
     "output_type": "execute_result"
    }
   ],
   "source": [
    "data = pd.read_csv(\"../Sampled Dataset/Random 50-50 Sampled Data.csv\")\n",
    "data.head()"
   ]
  },
  {
   "cell_type": "code",
   "execution_count": 3,
   "metadata": {
    "collapsed": true
   },
   "outputs": [],
   "source": [
    "X = data.loc[:, data.columns != 'Class']\n",
    "y = data.loc[:, data.columns == 'Class']"
   ]
  },
  {
   "cell_type": "code",
   "execution_count": 4,
   "metadata": {
    "collapsed": true
   },
   "outputs": [],
   "source": [
    "from sklearn.model_selection import train_test_split\n",
    "\n",
    "# Whole dataset\n",
    "X_train, X_test, y_train, y_test = train_test_split(X,y,test_size = 0.3, random_state = 42)"
   ]
  },
  {
   "cell_type": "code",
   "execution_count": 5,
   "metadata": {},
   "outputs": [
    {
     "data": {
      "text/plain": [
       "SVC(C=1, cache_size=200, class_weight=None, coef0=0.0,\n",
       "  decision_function_shape='ovr', degree=3, gamma='auto', kernel='rbf',\n",
       "  max_iter=-1, probability=False, random_state=0, shrinking=True,\n",
       "  tol=0.001, verbose=False)"
      ]
     },
     "execution_count": 5,
     "metadata": {},
     "output_type": "execute_result"
    }
   ],
   "source": [
    "from sklearn.svm import SVC\n",
    "svm_classifier= SVC(C= 1, kernel= 'rbf', random_state= 0)\n",
    "svm_classifier.fit(X_train, y_train.values.ravel())"
   ]
  },
  {
   "cell_type": "code",
   "execution_count": 6,
   "metadata": {
    "collapsed": true
   },
   "outputs": [],
   "source": [
    "y_pred = svm_classifier.predict(X_test)"
   ]
  },
  {
   "cell_type": "code",
   "execution_count": 7,
   "metadata": {},
   "outputs": [
    {
     "data": {
      "image/png": "[encoded data removed]",
      "text/plain": [
       "<matplotlib.figure.Figure at 0x7f20651ce7b8>"
      ]
     },
     "metadata": {},
     "output_type": "display_data"
    },
    {
     "name": "stdout",
     "output_type": "stream",
     "text": [
      "True Positive= 134 , True Negetive= 144 , False Positive= 9 , False Negetive= 9 \n",
      "\n",
      "The accuracy is 93.9189189189 %\n",
      "The recall is 93.7062937063 %\n",
      "The precision is 93.7062937063 %\n",
      "The F1 Score is 93.7062937063 %\n"
     ]
    }
   ],
   "source": [
    "from sklearn.metrics import confusion_matrix\n",
    "from mlxtend.plotting import plot_confusion_matrix\n",
    "\n",
    "cm1 = confusion_matrix(y_test, y_pred)\n",
    "\n",
    "def confusion_matrix_1(CM):\n",
    "    fig, ax = plot_confusion_matrix(conf_mat=CM)\n",
    "    plt.title(\"---Confusion Matrix---\")\n",
    "    plt.ylabel(\"Actual\")\n",
    "    plt.xlabel(\"Predicted\")\n",
    "    plt.show()\n",
    "    \n",
    "    TP=CM[0,0]\n",
    "    FN=CM[0,1]\n",
    "    FP=CM[1,0]\n",
    "    TN=CM[1,1]\n",
    "    \n",
    "    print(\"True Positive=\",TP,\", True Negetive=\",TN,\", False Positive=\",FP,\", False Negetive=\",FN,\"\\n\")\n",
    "    \n",
    "    accuracy=(TP+TN)/(TP+FP+FN+TN)\n",
    "    recall=TP/(TP+FN)\n",
    "    precision=TP/(TP+FP)\n",
    "    f1=(2*precision*recall)/(precision+recall)\n",
    "    \n",
    "    print(\"The accuracy is \"+str(accuracy*100) + \" %\")\n",
    "    print(\"The recall is \"+ str(recall*100) +\" %\")\n",
    "    print(\"The precision is \"+ str(precision*100) +\" %\")\n",
    "    print(\"The F1 Score is \"+ str(f1*100) +\" %\")\n",
    "        \n",
    "confusion_matrix_1(cm1)"
   ]
  },
  {
   "cell_type": "code",
   "execution_count": 8,
   "metadata": {
    "collapsed": true
   },
   "outputs": [],
   "source": [
    "y_pred = svm_classifier.fit(X_train, y_train.values.ravel()).decision_function(X_train.values)\n"
   ]
  },
  {
   "cell_type": "code",
   "execution_count": 9,
   "metadata": {
    "collapsed": true
   },
   "outputs": [],
   "source": [
    "\n",
    "from sklearn.metrics import precision_recall_curve,auc,roc_auc_score,roc_curve,recall_score,classification_report \n",
    "fpr, tpr, thresholds = roc_curve(y_train.values.ravel(),y_pred)\n",
    "roc_auc = auc(fpr,tpr)"
   ]
  },
  {
   "cell_type": "code",
   "execution_count": 10,
   "metadata": {},
   "outputs": [
    {
     "data": {
      "image/png": "[encoded data removed]",
      "text/plain": [
       "<matplotlib.figure.Figure at 0x7f2057eda320>"
      ]
     },
     "metadata": {},
     "output_type": "display_data"
    }
   ],
   "source": [
    "# Plot ROC\n",
    "plt.title('Receiver Operating Characteristic')\n",
    "plt.plot(fpr, tpr, 'b',label='AUC = %0.2f'% roc_auc)\n",
    "plt.legend(loc='lower right')\n",
    "plt.plot([0,1],[0,1],'r--')\n",
    "plt.xlim([-0.1,1.0])\n",
    "plt.ylim([-0.1,1.01])\n",
    "plt.ylabel('True Positive Rate')\n",
    "plt.xlabel('False Positive Rate')\n",
    "plt.show()"
   ]
  },
  {
   "cell_type": "code",
   "execution_count": null,
   "metadata": {
    "collapsed": true
   },
   "outputs": [],
   "source": []
  }
 ],
 "metadata": {
  "anaconda-cloud": {},
  "kernelspec": {
   "display_name": "Python [default]",
   "language": "python",
   "name": "python3"
  },
  "language_info": {
   "codemirror_mode": {
    "name": "ipython",
    "version": 3
   },
   "file_extension": ".py",
   "mimetype": "text/x-python",
   "name": "python",
   "nbconvert_exporter": "python",
   "pygments_lexer": "ipython3",
   "version": "3.5.2"
  }
 },
 "nbformat": 4,
 "nbformat_minor": 1
}
