{
 "cells": [
  {
   "cell_type": "code",
   "execution_count": 1,
   "metadata": {
    "collapsed": true
   },
   "outputs": [],
   "source": [
    "import numpy as np \n",
    "import pandas as pd \n",
    "\n",
    "import matplotlib\n",
    "import matplotlib.pyplot as plt\n",
    "%matplotlib inline"
   ]
  },
  {
   "cell_type": "code",
   "execution_count": 2,
   "metadata": {},
   "outputs": [
    {
     "data": {
      "text/html": [
       "<div>\n",
       "<style>\n",
       "    .dataframe thead tr:only-child th {\n",
       "        text-align: right;\n",
       "    }\n",
       "\n",
       "    .dataframe thead th {\n",
       "        text-align: left;\n",
       "    }\n",
       "\n",
       "    .dataframe tbody tr th {\n",
       "        vertical-align: top;\n",
       "    }\n",
       "</style>\n",
       "<table border=\"1\" class=\"dataframe\">\n",
       "  <thead>\n",
       "    <tr style=\"text-align: right;\">\n",
       "      <th></th>\n",
       "      <th>V1</th>\n",
       "      <th>V2</th>\n",
       "      <th>V3</th>\n",
       "      <th>V4</th>\n",
       "      <th>V5</th>\n",
       "      <th>V6</th>\n",
       "      <th>V7</th>\n",
       "      <th>V8</th>\n",
       "      <th>V9</th>\n",
       "      <th>V10</th>\n",
       "      <th>...</th>\n",
       "      <th>V21</th>\n",
       "      <th>V22</th>\n",
       "      <th>V23</th>\n",
       "      <th>V24</th>\n",
       "      <th>V25</th>\n",
       "      <th>V26</th>\n",
       "      <th>V27</th>\n",
       "      <th>V28</th>\n",
       "      <th>normAmount</th>\n",
       "      <th>Class</th>\n",
       "    </tr>\n",
       "  </thead>\n",
       "  <tbody>\n",
       "    <tr>\n",
       "      <th>0</th>\n",
       "      <td>-13.086519</td>\n",
       "      <td>7.352148</td>\n",
       "      <td>-18.256576</td>\n",
       "      <td>10.648505</td>\n",
       "      <td>-11.731476</td>\n",
       "      <td>-3.659167</td>\n",
       "      <td>-14.873658</td>\n",
       "      <td>8.810473</td>\n",
       "      <td>-5.418204</td>\n",
       "      <td>-13.202577</td>\n",
       "      <td>...</td>\n",
       "      <td>2.761157</td>\n",
       "      <td>-0.266162</td>\n",
       "      <td>-0.412861</td>\n",
       "      <td>0.519952</td>\n",
       "      <td>-0.743909</td>\n",
       "      <td>-0.167808</td>\n",
       "      <td>-2.498300</td>\n",
       "      <td>-0.711066</td>\n",
       "      <td>-0.305610</td>\n",
       "      <td>1</td>\n",
       "    </tr>\n",
       "    <tr>\n",
       "      <th>1</th>\n",
       "      <td>0.775570</td>\n",
       "      <td>-0.770648</td>\n",
       "      <td>0.936321</td>\n",
       "      <td>1.312951</td>\n",
       "      <td>-1.060369</td>\n",
       "      <td>0.343982</td>\n",
       "      <td>-0.509566</td>\n",
       "      <td>0.281372</td>\n",
       "      <td>0.823800</td>\n",
       "      <td>-0.081314</td>\n",
       "      <td>...</td>\n",
       "      <td>0.064923</td>\n",
       "      <td>-0.121614</td>\n",
       "      <td>-0.206049</td>\n",
       "      <td>-0.029554</td>\n",
       "      <td>0.318518</td>\n",
       "      <td>-0.420916</td>\n",
       "      <td>0.025195</td>\n",
       "      <td>0.054102</td>\n",
       "      <td>0.307804</td>\n",
       "      <td>0</td>\n",
       "    </tr>\n",
       "    <tr>\n",
       "      <th>2</th>\n",
       "      <td>-0.098257</td>\n",
       "      <td>0.277438</td>\n",
       "      <td>0.682605</td>\n",
       "      <td>0.541734</td>\n",
       "      <td>0.744008</td>\n",
       "      <td>0.239270</td>\n",
       "      <td>0.852291</td>\n",
       "      <td>-0.130182</td>\n",
       "      <td>0.684496</td>\n",
       "      <td>-0.425860</td>\n",
       "      <td>...</td>\n",
       "      <td>0.382471</td>\n",
       "      <td>1.551722</td>\n",
       "      <td>-0.164158</td>\n",
       "      <td>0.716621</td>\n",
       "      <td>-0.432961</td>\n",
       "      <td>-0.479633</td>\n",
       "      <td>0.110424</td>\n",
       "      <td>0.034605</td>\n",
       "      <td>-0.235720</td>\n",
       "      <td>0</td>\n",
       "    </tr>\n",
       "    <tr>\n",
       "      <th>3</th>\n",
       "      <td>-1.093755</td>\n",
       "      <td>0.557129</td>\n",
       "      <td>1.603202</td>\n",
       "      <td>0.008525</td>\n",
       "      <td>1.060342</td>\n",
       "      <td>0.071394</td>\n",
       "      <td>0.476971</td>\n",
       "      <td>0.216907</td>\n",
       "      <td>-0.400491</td>\n",
       "      <td>-0.607183</td>\n",
       "      <td>...</td>\n",
       "      <td>-0.046997</td>\n",
       "      <td>-0.050579</td>\n",
       "      <td>-0.460900</td>\n",
       "      <td>-0.290351</td>\n",
       "      <td>0.782954</td>\n",
       "      <td>-0.449391</td>\n",
       "      <td>-0.104006</td>\n",
       "      <td>-0.067875</td>\n",
       "      <td>-0.415446</td>\n",
       "      <td>0</td>\n",
       "    </tr>\n",
       "    <tr>\n",
       "      <th>4</th>\n",
       "      <td>-1.369120</td>\n",
       "      <td>1.099830</td>\n",
       "      <td>1.393934</td>\n",
       "      <td>-0.638975</td>\n",
       "      <td>-0.588518</td>\n",
       "      <td>0.260273</td>\n",
       "      <td>0.216639</td>\n",
       "      <td>0.545081</td>\n",
       "      <td>-0.049583</td>\n",
       "      <td>-0.726512</td>\n",
       "      <td>...</td>\n",
       "      <td>-0.043952</td>\n",
       "      <td>-0.411460</td>\n",
       "      <td>-0.199765</td>\n",
       "      <td>-0.463215</td>\n",
       "      <td>0.240325</td>\n",
       "      <td>-0.432551</td>\n",
       "      <td>-0.427597</td>\n",
       "      <td>-0.019662</td>\n",
       "      <td>-0.176961</td>\n",
       "      <td>0</td>\n",
       "    </tr>\n",
       "  </tbody>\n",
       "</table>\n",
       "<p>5 rows × 30 columns</p>\n",
       "</div>"
      ],
      "text/plain": [
       "          V1        V2         V3         V4         V5        V6         V7  \\\n",
       "0 -13.086519  7.352148 -18.256576  10.648505 -11.731476 -3.659167 -14.873658   \n",
       "1   0.775570 -0.770648   0.936321   1.312951  -1.060369  0.343982  -0.509566   \n",
       "2  -0.098257  0.277438   0.682605   0.541734   0.744008  0.239270   0.852291   \n",
       "3  -1.093755  0.557129   1.603202   0.008525   1.060342  0.071394   0.476971   \n",
       "4  -1.369120  1.099830   1.393934  -0.638975  -0.588518  0.260273   0.216639   \n",
       "\n",
       "         V8        V9        V10  ...         V21       V22       V23  \\\n",
       "0  8.810473 -5.418204 -13.202577  ...    2.761157 -0.266162 -0.412861   \n",
       "1  0.281372  0.823800  -0.081314  ...    0.064923 -0.121614 -0.206049   \n",
       "2 -0.130182  0.684496  -0.425860  ...    0.382471  1.551722 -0.164158   \n",
       "3  0.216907 -0.400491  -0.607183  ...   -0.046997 -0.050579 -0.460900   \n",
       "4  0.545081 -0.049583  -0.726512  ...   -0.043952 -0.411460 -0.199765   \n",
       "\n",
       "        V24       V25       V26       V27       V28  normAmount  Class  \n",
       "0  0.519952 -0.743909 -0.167808 -2.498300 -0.711066   -0.305610      1  \n",
       "1 -0.029554  0.318518 -0.420916  0.025195  0.054102    0.307804      0  \n",
       "2  0.716621 -0.432961 -0.479633  0.110424  0.034605   -0.235720      0  \n",
       "3 -0.290351  0.782954 -0.449391 -0.104006 -0.067875   -0.415446      0  \n",
       "4 -0.463215  0.240325 -0.432551 -0.427597 -0.019662   -0.176961      0  \n",
       "\n",
       "[5 rows x 30 columns]"
      ]
     },
     "execution_count": 2,
     "metadata": {},
     "output_type": "execute_result"
    }
   ],
   "source": [
    "data = pd.read_csv(\"../Sampled Dataset/Without Kmeans 50-50 Sampled.csv\")\n",
    "data.head()"
   ]
  },
  {
   "cell_type": "code",
   "execution_count": 3,
   "metadata": {},
   "outputs": [
    {
     "name": "stdout",
     "output_type": "stream",
     "text": [
      "Size of normal_data: 492\n",
      "Size of fraud_data: 492\n"
     ]
    },
    {
     "data": {
      "text/html": [
       "<div>\n",
       "<style>\n",
       "    .dataframe thead tr:only-child th {\n",
       "        text-align: right;\n",
       "    }\n",
       "\n",
       "    .dataframe thead th {\n",
       "        text-align: left;\n",
       "    }\n",
       "\n",
       "    .dataframe tbody tr th {\n",
       "        vertical-align: top;\n",
       "    }\n",
       "</style>\n",
       "<table border=\"1\" class=\"dataframe\">\n",
       "  <thead>\n",
       "    <tr style=\"text-align: right;\">\n",
       "      <th></th>\n",
       "      <th>V1</th>\n",
       "      <th>V2</th>\n",
       "      <th>V3</th>\n",
       "      <th>V4</th>\n",
       "      <th>V5</th>\n",
       "      <th>V6</th>\n",
       "      <th>V7</th>\n",
       "      <th>V8</th>\n",
       "      <th>V9</th>\n",
       "      <th>V10</th>\n",
       "      <th>...</th>\n",
       "      <th>V21</th>\n",
       "      <th>V22</th>\n",
       "      <th>V23</th>\n",
       "      <th>V24</th>\n",
       "      <th>V25</th>\n",
       "      <th>V26</th>\n",
       "      <th>V27</th>\n",
       "      <th>V28</th>\n",
       "      <th>normAmount</th>\n",
       "      <th>Class</th>\n",
       "    </tr>\n",
       "  </thead>\n",
       "  <tbody>\n",
       "    <tr>\n",
       "      <th>1</th>\n",
       "      <td>0.775570</td>\n",
       "      <td>-0.770648</td>\n",
       "      <td>0.936321</td>\n",
       "      <td>1.312951</td>\n",
       "      <td>-1.060369</td>\n",
       "      <td>0.343982</td>\n",
       "      <td>-0.509566</td>\n",
       "      <td>0.281372</td>\n",
       "      <td>0.823800</td>\n",
       "      <td>-0.081314</td>\n",
       "      <td>...</td>\n",
       "      <td>0.064923</td>\n",
       "      <td>-0.121614</td>\n",
       "      <td>-0.206049</td>\n",
       "      <td>-0.029554</td>\n",
       "      <td>0.318518</td>\n",
       "      <td>-0.420916</td>\n",
       "      <td>0.025195</td>\n",
       "      <td>0.054102</td>\n",
       "      <td>0.307804</td>\n",
       "      <td>0</td>\n",
       "    </tr>\n",
       "    <tr>\n",
       "      <th>2</th>\n",
       "      <td>-0.098257</td>\n",
       "      <td>0.277438</td>\n",
       "      <td>0.682605</td>\n",
       "      <td>0.541734</td>\n",
       "      <td>0.744008</td>\n",
       "      <td>0.239270</td>\n",
       "      <td>0.852291</td>\n",
       "      <td>-0.130182</td>\n",
       "      <td>0.684496</td>\n",
       "      <td>-0.425860</td>\n",
       "      <td>...</td>\n",
       "      <td>0.382471</td>\n",
       "      <td>1.551722</td>\n",
       "      <td>-0.164158</td>\n",
       "      <td>0.716621</td>\n",
       "      <td>-0.432961</td>\n",
       "      <td>-0.479633</td>\n",
       "      <td>0.110424</td>\n",
       "      <td>0.034605</td>\n",
       "      <td>-0.235720</td>\n",
       "      <td>0</td>\n",
       "    </tr>\n",
       "    <tr>\n",
       "      <th>3</th>\n",
       "      <td>-1.093755</td>\n",
       "      <td>0.557129</td>\n",
       "      <td>1.603202</td>\n",
       "      <td>0.008525</td>\n",
       "      <td>1.060342</td>\n",
       "      <td>0.071394</td>\n",
       "      <td>0.476971</td>\n",
       "      <td>0.216907</td>\n",
       "      <td>-0.400491</td>\n",
       "      <td>-0.607183</td>\n",
       "      <td>...</td>\n",
       "      <td>-0.046997</td>\n",
       "      <td>-0.050579</td>\n",
       "      <td>-0.460900</td>\n",
       "      <td>-0.290351</td>\n",
       "      <td>0.782954</td>\n",
       "      <td>-0.449391</td>\n",
       "      <td>-0.104006</td>\n",
       "      <td>-0.067875</td>\n",
       "      <td>-0.415446</td>\n",
       "      <td>0</td>\n",
       "    </tr>\n",
       "    <tr>\n",
       "      <th>4</th>\n",
       "      <td>-1.369120</td>\n",
       "      <td>1.099830</td>\n",
       "      <td>1.393934</td>\n",
       "      <td>-0.638975</td>\n",
       "      <td>-0.588518</td>\n",
       "      <td>0.260273</td>\n",
       "      <td>0.216639</td>\n",
       "      <td>0.545081</td>\n",
       "      <td>-0.049583</td>\n",
       "      <td>-0.726512</td>\n",
       "      <td>...</td>\n",
       "      <td>-0.043952</td>\n",
       "      <td>-0.411460</td>\n",
       "      <td>-0.199765</td>\n",
       "      <td>-0.463215</td>\n",
       "      <td>0.240325</td>\n",
       "      <td>-0.432551</td>\n",
       "      <td>-0.427597</td>\n",
       "      <td>-0.019662</td>\n",
       "      <td>-0.176961</td>\n",
       "      <td>0</td>\n",
       "    </tr>\n",
       "    <tr>\n",
       "      <th>7</th>\n",
       "      <td>1.847503</td>\n",
       "      <td>0.296708</td>\n",
       "      <td>-2.257113</td>\n",
       "      <td>1.631420</td>\n",
       "      <td>0.762910</td>\n",
       "      <td>-1.139432</td>\n",
       "      <td>0.800692</td>\n",
       "      <td>-0.389792</td>\n",
       "      <td>0.060048</td>\n",
       "      <td>-0.405638</td>\n",
       "      <td>...</td>\n",
       "      <td>0.036619</td>\n",
       "      <td>0.136874</td>\n",
       "      <td>-0.019559</td>\n",
       "      <td>0.973050</td>\n",
       "      <td>0.408954</td>\n",
       "      <td>-0.554306</td>\n",
       "      <td>-0.014721</td>\n",
       "      <td>-0.003885</td>\n",
       "      <td>-0.086124</td>\n",
       "      <td>0</td>\n",
       "    </tr>\n",
       "  </tbody>\n",
       "</table>\n",
       "<p>5 rows × 30 columns</p>\n",
       "</div>"
      ],
      "text/plain": [
       "         V1        V2        V3        V4        V5        V6        V7  \\\n",
       "1  0.775570 -0.770648  0.936321  1.312951 -1.060369  0.343982 -0.509566   \n",
       "2 -0.098257  0.277438  0.682605  0.541734  0.744008  0.239270  0.852291   \n",
       "3 -1.093755  0.557129  1.603202  0.008525  1.060342  0.071394  0.476971   \n",
       "4 -1.369120  1.099830  1.393934 -0.638975 -0.588518  0.260273  0.216639   \n",
       "7  1.847503  0.296708 -2.257113  1.631420  0.762910 -1.139432  0.800692   \n",
       "\n",
       "         V8        V9       V10  ...         V21       V22       V23  \\\n",
       "1  0.281372  0.823800 -0.081314  ...    0.064923 -0.121614 -0.206049   \n",
       "2 -0.130182  0.684496 -0.425860  ...    0.382471  1.551722 -0.164158   \n",
       "3  0.216907 -0.400491 -0.607183  ...   -0.046997 -0.050579 -0.460900   \n",
       "4  0.545081 -0.049583 -0.726512  ...   -0.043952 -0.411460 -0.199765   \n",
       "7 -0.389792  0.060048 -0.405638  ...    0.036619  0.136874 -0.019559   \n",
       "\n",
       "        V24       V25       V26       V27       V28  normAmount  Class  \n",
       "1 -0.029554  0.318518 -0.420916  0.025195  0.054102    0.307804      0  \n",
       "2  0.716621 -0.432961 -0.479633  0.110424  0.034605   -0.235720      0  \n",
       "3 -0.290351  0.782954 -0.449391 -0.104006 -0.067875   -0.415446      0  \n",
       "4 -0.463215  0.240325 -0.432551 -0.427597 -0.019662   -0.176961      0  \n",
       "7  0.973050  0.408954 -0.554306 -0.014721 -0.003885   -0.086124      0  \n",
       "\n",
       "[5 rows x 30 columns]"
      ]
     },
     "execution_count": 3,
     "metadata": {},
     "output_type": "execute_result"
    }
   ],
   "source": [
    "normal_data = data.loc[data[\"Class\"] == 0]\n",
    "fraud_data = data.loc[data[\"Class\"] == 1]\n",
    "print(\"Size of normal_data:\", len(normal_data))\n",
    "print(\"Size of fraud_data:\", len(fraud_data))\n",
    "normal_data.head()"
   ]
  },
  {
   "cell_type": "code",
   "execution_count": 4,
   "metadata": {},
   "outputs": [
    {
     "data": {
      "image/png": "[encoded data removed]",
      "text/plain": [
       "<matplotlib.figure.Figure at 0x7ff3bea76588>"
      ]
     },
     "metadata": {},
     "output_type": "display_data"
    }
   ],
   "source": [
    "matplotlib.style.use('ggplot')\n",
    "pca_columns = list(data)[0:-2]\n",
    "normal_data[pca_columns].hist(stacked=False, bins=100, figsize=(12,30), layout=(14,2));"
   ]
  },
  {
   "cell_type": "code",
   "execution_count": 5,
   "metadata": {},
   "outputs": [
    {
     "data": {
      "image/png": "[encoded data removed]",
      "text/plain": [
       "<matplotlib.figure.Figure at 0x7ff3b7c4c7b8>"
      ]
     },
     "metadata": {},
     "output_type": "display_data"
    }
   ],
   "source": [
    "normal_data[\"normAmount\"].loc[normal_data[\"normAmount\"] < 500].hist(bins=100);"
   ]
  },
  {
   "cell_type": "code",
   "execution_count": 6,
   "metadata": {},
   "outputs": [
    {
     "name": "stdout",
     "output_type": "stream",
     "text": [
      "Mean -0.03878243004573163\n",
      "Median -0.31051871245\n"
     ]
    }
   ],
   "source": [
    "print(\"Mean\", normal_data[\"normAmount\"].mean())\n",
    "print(\"Median\", normal_data[\"normAmount\"].median())"
   ]
  },
  {
   "cell_type": "code",
   "execution_count": 7,
   "metadata": {},
   "outputs": [
    {
     "data": {
      "image/png": "[encoded data removed]",
      "text/plain": [
       "<matplotlib.figure.Figure at 0x7ff3b9bf4c88>"
      ]
     },
     "metadata": {},
     "output_type": "display_data"
    }
   ],
   "source": [
    "fraud_data[\"normAmount\"].hist(bins=100);"
   ]
  },
  {
   "cell_type": "code",
   "execution_count": 8,
   "metadata": {},
   "outputs": [
    {
     "name": "stdout",
     "output_type": "stream",
     "text": [
      "Mean Fraudulent 0.038782430033536555\n",
      "Median Fraudulent -0.3845300823500001\n"
     ]
    }
   ],
   "source": [
    "print(\"Mean Fraudulent\", fraud_data[\"normAmount\"].mean())\n",
    "print(\"Median Fraudulent\", fraud_data[\"normAmount\"].median())"
   ]
  },
  {
   "cell_type": "code",
   "execution_count": 9,
   "metadata": {},
   "outputs": [
    {
     "data": {
      "text/html": [
       "<div>\n",
       "<style>\n",
       "    .dataframe thead tr:only-child th {\n",
       "        text-align: right;\n",
       "    }\n",
       "\n",
       "    .dataframe thead th {\n",
       "        text-align: left;\n",
       "    }\n",
       "\n",
       "    .dataframe tbody tr th {\n",
       "        vertical-align: top;\n",
       "    }\n",
       "</style>\n",
       "<table border=\"1\" class=\"dataframe\">\n",
       "  <thead>\n",
       "    <tr style=\"text-align: right;\">\n",
       "      <th></th>\n",
       "      <th>V1</th>\n",
       "      <th>V2</th>\n",
       "      <th>V3</th>\n",
       "      <th>V4</th>\n",
       "      <th>V5</th>\n",
       "      <th>V6</th>\n",
       "      <th>V7</th>\n",
       "      <th>V8</th>\n",
       "      <th>V9</th>\n",
       "      <th>V10</th>\n",
       "      <th>...</th>\n",
       "      <th>V19</th>\n",
       "      <th>V20</th>\n",
       "      <th>V21</th>\n",
       "      <th>V22</th>\n",
       "      <th>V23</th>\n",
       "      <th>V24</th>\n",
       "      <th>V25</th>\n",
       "      <th>V26</th>\n",
       "      <th>V27</th>\n",
       "      <th>V28</th>\n",
       "    </tr>\n",
       "  </thead>\n",
       "  <tbody>\n",
       "    <tr>\n",
       "      <th>1</th>\n",
       "      <td>0.775570</td>\n",
       "      <td>-0.770648</td>\n",
       "      <td>0.936321</td>\n",
       "      <td>1.312951</td>\n",
       "      <td>-1.060369</td>\n",
       "      <td>0.343982</td>\n",
       "      <td>-0.509566</td>\n",
       "      <td>0.281372</td>\n",
       "      <td>0.823800</td>\n",
       "      <td>-0.081314</td>\n",
       "      <td>...</td>\n",
       "      <td>0.152749</td>\n",
       "      <td>0.182625</td>\n",
       "      <td>0.064923</td>\n",
       "      <td>-0.121614</td>\n",
       "      <td>-0.206049</td>\n",
       "      <td>-0.029554</td>\n",
       "      <td>0.318518</td>\n",
       "      <td>-0.420916</td>\n",
       "      <td>0.025195</td>\n",
       "      <td>0.054102</td>\n",
       "    </tr>\n",
       "    <tr>\n",
       "      <th>2</th>\n",
       "      <td>-0.098257</td>\n",
       "      <td>0.277438</td>\n",
       "      <td>0.682605</td>\n",
       "      <td>0.541734</td>\n",
       "      <td>0.744008</td>\n",
       "      <td>0.239270</td>\n",
       "      <td>0.852291</td>\n",
       "      <td>-0.130182</td>\n",
       "      <td>0.684496</td>\n",
       "      <td>-0.425860</td>\n",
       "      <td>...</td>\n",
       "      <td>-0.327734</td>\n",
       "      <td>-0.062625</td>\n",
       "      <td>0.382471</td>\n",
       "      <td>1.551722</td>\n",
       "      <td>-0.164158</td>\n",
       "      <td>0.716621</td>\n",
       "      <td>-0.432961</td>\n",
       "      <td>-0.479633</td>\n",
       "      <td>0.110424</td>\n",
       "      <td>0.034605</td>\n",
       "    </tr>\n",
       "    <tr>\n",
       "      <th>3</th>\n",
       "      <td>-1.093755</td>\n",
       "      <td>0.557129</td>\n",
       "      <td>1.603202</td>\n",
       "      <td>0.008525</td>\n",
       "      <td>1.060342</td>\n",
       "      <td>0.071394</td>\n",
       "      <td>0.476971</td>\n",
       "      <td>0.216907</td>\n",
       "      <td>-0.400491</td>\n",
       "      <td>-0.607183</td>\n",
       "      <td>...</td>\n",
       "      <td>-0.799868</td>\n",
       "      <td>-0.294061</td>\n",
       "      <td>-0.046997</td>\n",
       "      <td>-0.050579</td>\n",
       "      <td>-0.460900</td>\n",
       "      <td>-0.290351</td>\n",
       "      <td>0.782954</td>\n",
       "      <td>-0.449391</td>\n",
       "      <td>-0.104006</td>\n",
       "      <td>-0.067875</td>\n",
       "    </tr>\n",
       "    <tr>\n",
       "      <th>4</th>\n",
       "      <td>-1.369120</td>\n",
       "      <td>1.099830</td>\n",
       "      <td>1.393934</td>\n",
       "      <td>-0.638975</td>\n",
       "      <td>-0.588518</td>\n",
       "      <td>0.260273</td>\n",
       "      <td>0.216639</td>\n",
       "      <td>0.545081</td>\n",
       "      <td>-0.049583</td>\n",
       "      <td>-0.726512</td>\n",
       "      <td>...</td>\n",
       "      <td>0.684397</td>\n",
       "      <td>-0.283601</td>\n",
       "      <td>-0.043952</td>\n",
       "      <td>-0.411460</td>\n",
       "      <td>-0.199765</td>\n",
       "      <td>-0.463215</td>\n",
       "      <td>0.240325</td>\n",
       "      <td>-0.432551</td>\n",
       "      <td>-0.427597</td>\n",
       "      <td>-0.019662</td>\n",
       "    </tr>\n",
       "    <tr>\n",
       "      <th>7</th>\n",
       "      <td>1.847503</td>\n",
       "      <td>0.296708</td>\n",
       "      <td>-2.257113</td>\n",
       "      <td>1.631420</td>\n",
       "      <td>0.762910</td>\n",
       "      <td>-1.139432</td>\n",
       "      <td>0.800692</td>\n",
       "      <td>-0.389792</td>\n",
       "      <td>0.060048</td>\n",
       "      <td>-0.405638</td>\n",
       "      <td>...</td>\n",
       "      <td>-0.596533</td>\n",
       "      <td>-0.059904</td>\n",
       "      <td>0.036619</td>\n",
       "      <td>0.136874</td>\n",
       "      <td>-0.019559</td>\n",
       "      <td>0.973050</td>\n",
       "      <td>0.408954</td>\n",
       "      <td>-0.554306</td>\n",
       "      <td>-0.014721</td>\n",
       "      <td>-0.003885</td>\n",
       "    </tr>\n",
       "  </tbody>\n",
       "</table>\n",
       "<p>5 rows × 28 columns</p>\n",
       "</div>"
      ],
      "text/plain": [
       "         V1        V2        V3        V4        V5        V6        V7  \\\n",
       "1  0.775570 -0.770648  0.936321  1.312951 -1.060369  0.343982 -0.509566   \n",
       "2 -0.098257  0.277438  0.682605  0.541734  0.744008  0.239270  0.852291   \n",
       "3 -1.093755  0.557129  1.603202  0.008525  1.060342  0.071394  0.476971   \n",
       "4 -1.369120  1.099830  1.393934 -0.638975 -0.588518  0.260273  0.216639   \n",
       "7  1.847503  0.296708 -2.257113  1.631420  0.762910 -1.139432  0.800692   \n",
       "\n",
       "         V8        V9       V10    ...          V19       V20       V21  \\\n",
       "1  0.281372  0.823800 -0.081314    ...     0.152749  0.182625  0.064923   \n",
       "2 -0.130182  0.684496 -0.425860    ...    -0.327734 -0.062625  0.382471   \n",
       "3  0.216907 -0.400491 -0.607183    ...    -0.799868 -0.294061 -0.046997   \n",
       "4  0.545081 -0.049583 -0.726512    ...     0.684397 -0.283601 -0.043952   \n",
       "7 -0.389792  0.060048 -0.405638    ...    -0.596533 -0.059904  0.036619   \n",
       "\n",
       "        V22       V23       V24       V25       V26       V27       V28  \n",
       "1 -0.121614 -0.206049 -0.029554  0.318518 -0.420916  0.025195  0.054102  \n",
       "2  1.551722 -0.164158  0.716621 -0.432961 -0.479633  0.110424  0.034605  \n",
       "3 -0.050579 -0.460900 -0.290351  0.782954 -0.449391 -0.104006 -0.067875  \n",
       "4 -0.411460 -0.199765 -0.463215  0.240325 -0.432551 -0.427597 -0.019662  \n",
       "7  0.136874 -0.019559  0.973050  0.408954 -0.554306 -0.014721 -0.003885  \n",
       "\n",
       "[5 rows x 28 columns]"
      ]
     },
     "execution_count": 9,
     "metadata": {},
     "output_type": "execute_result"
    }
   ],
   "source": [
    "normal_pca_data = normal_data[pca_columns]\n",
    "fraud_pca_data = fraud_data[pca_columns]\n",
    "num_test = 65\n",
    "shuffled_data = normal_pca_data.sample(frac=1)[:-num_test].values\n",
    "normal_pca_data.head()"
   ]
  },
  {
   "cell_type": "code",
   "execution_count": 10,
   "metadata": {},
   "outputs": [
    {
     "name": "stdout",
     "output_type": "stream",
     "text": [
      "Size of X: 297     311      311\n",
      "Size of Y: 311      311\n",
      "Size of normal_pca_data: 492\n",
      "Size of fraud_pca_data: 492\n",
      "Size of fraud_data: 492\n"
     ]
    }
   ],
   "source": [
    "X_train = shuffled_data[:-2*num_test]\n",
    "\n",
    "X_valid = np.concatenate([shuffled_data[-2*num_test:-num_test], fraud_pca_data[:246]])\n",
    "y_valid = np.concatenate([np.zeros(num_test), np.ones(246)])\n",
    "\n",
    "X_test = np.concatenate([shuffled_data[-num_test:], fraud_pca_data[246:]])\n",
    "y_test = np.concatenate([np.zeros(num_test), np.ones(246)])\n",
    "\n",
    "print(\"Size of X:\",len(X_train),'   ', len(X_valid), '    ', len(X_test))\n",
    "print(\"Size of Y:\",len(y_valid), '    ', len(y_test))\n",
    "print (\"Size of normal_pca_data:\", len(normal_pca_data))\n",
    "print (\"Size of fraud_pca_data:\", len(fraud_pca_data))\n",
    "print (\"Size of fraud_data:\", len(fraud_data))"
   ]
  },
  {
   "cell_type": "code",
   "execution_count": 11,
   "metadata": {},
   "outputs": [
    {
     "name": "stdout",
     "output_type": "stream",
     "text": [
      "Size of X_Legit  492    y_Legit:  492\n",
      "Size of X_Fraud  492    y_Fraud:  492\n"
     ]
    }
   ],
   "source": [
    "X_Legit = data.query(\"Class==0\").drop([\"normAmount\",\"Class\"],1)\n",
    "y_Legit = data.query(\"Class==0\")[\"Class\"]\n",
    "\n",
    "X_Fraud = data.query(\"Class==1\").drop([\"normAmount\",\"Class\"],1)\n",
    "y_Fraud = data.query(\"Class==1\")[\"Class\"]\n",
    "\n",
    "print(\"Size of X_Legit \",len(X_Legit),'  ', \"y_Legit: \", len(y_Legit))\n",
    "print(\"Size of X_Fraud \",len(X_Fraud),'  ', \"y_Fraud: \", len(y_Fraud))"
   ]
  },
  {
   "cell_type": "code",
   "execution_count": 12,
   "metadata": {
    "collapsed": true
   },
   "outputs": [],
   "source": [
    "def covariance_matrix(X):\n",
    "    m=len(X)\n",
    "    mu = X.mean()\n",
    "    Sigma=0\n",
    "    for i in range(m):\n",
    "        Sigma += np.outer(X[i] - mu, X[i] - mu)\n",
    "    return Sigma / m"
   ]
  },
  {
   "cell_type": "code",
   "execution_count": 13,
   "metadata": {},
   "outputs": [
    {
     "data": {
      "text/plain": [
       "(28, 28)"
      ]
     },
     "execution_count": 13,
     "metadata": {},
     "output_type": "execute_result"
    }
   ],
   "source": [
    "cov_mat = covariance_matrix(X_train)\n",
    "cov_mat_inv = np.linalg.pinv(cov_mat)\n",
    "cov_mat_det = np.linalg.det(cov_mat)\n",
    "np.matrix(cov_mat).shape"
   ]
  },
  {
   "cell_type": "code",
   "execution_count": 14,
   "metadata": {
    "collapsed": true
   },
   "outputs": [],
   "source": [
    "def multi_gauss(x):\n",
    "    n = len(cov_mat)\n",
    "    return (np.exp(-0.5 * np.dot(x, np.dot(cov_mat_inv, x.T))) \n",
    "            / (2. * np.pi)**(n/2.) \n",
    "            / np.sqrt(cov_mat_det))"
   ]
  },
  {
   "cell_type": "code",
   "execution_count": 15,
   "metadata": {},
   "outputs": [
    {
     "name": "stdout",
     "output_type": "stream",
     "text": [
      "0.0\n",
      "0.0\n",
      "0.0\n",
      "0.0\n",
      "0.0\n",
      "0.0\n",
      "8.53142027138e-15\n",
      "1.33229546538e-11\n",
      "0.0\n",
      "2.40529642766e-13\n"
     ]
    }
   ],
   "source": [
    "# Check out some resulting probablilities for Fraud examples\n",
    "#X_Fraud = data.query(\"Class==1\").drop([\"Amount\",\"Class\",\"Time\"],1)\n",
    "for i in range(10):\n",
    "    print(multi_gauss(X_Fraud.iloc[i]))"
   ]
  },
  {
   "cell_type": "code",
   "execution_count": 16,
   "metadata": {},
   "outputs": [
    {
     "name": "stdout",
     "output_type": "stream",
     "text": [
      "163\n",
      "492     655\n",
      "492\n",
      "492\n"
     ]
    }
   ],
   "source": [
    "from sklearn.model_selection import train_test_split\n",
    "X_train_2, X_test_2, y_train_2, y_test_2 = train_test_split(X_Legit, y_Legit, test_size=0.33, random_state=42)\n",
    "print(len(X_test_2))\n",
    "X_test_2 = X_test_2.append(X_Fraud)\n",
    "print(len(X_Fraud),'   ', len(X_test_2))\n",
    "y_test_2 = y_test_2.append(y_Fraud)\n",
    "print (len(X_Legit))\n",
    "print (len(y_Legit))\n",
    "#X_test_2.head()\n",
    "#temp=X_train.head(100)\n",
    "#print type(X_train)"
   ]
  },
  {
   "cell_type": "code",
   "execution_count": 17,
   "metadata": {},
   "outputs": [
    {
     "name": "stdout",
     "output_type": "stream",
     "text": [
      "0.0\n"
     ]
    }
   ],
   "source": [
    "from scipy.stats import multivariate_normal\n",
    "var = multivariate_normal.pdf(X_test_2,X_test_2.mean(), cov_mat)\n",
    "eps=min(var)\n",
    "print(eps)"
   ]
  },
  {
   "cell_type": "code",
   "execution_count": 18,
   "metadata": {},
   "outputs": [
    {
     "data": {
      "image/png": "[encoded data removed]",
      "text/plain": [
       "<matplotlib.figure.Figure at 0x7ff3ba727c88>"
      ]
     },
     "metadata": {},
     "output_type": "display_data"
    },
    {
     "name": "stdout",
     "output_type": "stream",
     "text": [
      "True Positive= 65 , True Negetive= 201 , False Positive= 45 , False Negetive= 0 \n",
      "\n",
      "The accuracy is 85.5305466238 %\n",
      "The recall is 100.0 %\n",
      "The precision is 59.0909090909 %\n",
      "The F1 Score is 74.2857142857 %\n"
     ]
    }
   ],
   "source": [
    "from sklearn.metrics import confusion_matrix\n",
    "from mlxtend.plotting import plot_confusion_matrix\n",
    "def stats(X_test, y_test, eps):\n",
    "    predictions = np.array([multi_gauss(x) <= eps for x in X_test], dtype=bool)\n",
    "    y_test = np.array(y_test, dtype=bool)\n",
    "    CM=confusion_matrix(y_test, predictions)\n",
    "    fig, ax = plot_confusion_matrix(conf_mat=CM)\n",
    "    plt.title(\"---Confusion Matrix---\")\n",
    "    plt.ylabel(\"Actual\")\n",
    "    plt.xlabel(\"Predicted\")\n",
    "    plt.show()\n",
    "    \n",
    "    TP=CM[0,0]\n",
    "    FN=CM[0,1]\n",
    "    FP=CM[1,0]\n",
    "    TN=CM[1,1]\n",
    "    \n",
    "    print(\"True Positive=\",TP,\", True Negetive=\",TN,\", False Positive=\",FP,\", False Negetive=\",FN,\"\\n\")\n",
    "    \n",
    "    accuracy=(TP+TN)/(TP+FP+FN+TN)\n",
    "    recall=TP/(TP+FN)\n",
    "    precision=TP/(TP+FP)\n",
    "    f1=(2*precision*recall)/(precision+recall)\n",
    "    \n",
    "    print(\"The accuracy is \"+str(accuracy*100) + \" %\")\n",
    "    print(\"The recall is \"+ str(recall*100) +\" %\")\n",
    "    print(\"The precision is \"+ str(precision*100) +\" %\")\n",
    "    print(\"The F1 Score is \"+ str(f1*100) +\" %\")\n",
    "\n",
    "stats(X_valid, y_valid, eps)"
   ]
  },
  {
   "cell_type": "code",
   "execution_count": null,
   "metadata": {
    "collapsed": true
   },
   "outputs": [],
   "source": []
  }
 ],
 "metadata": {
  "anaconda-cloud": {},
  "kernelspec": {
   "display_name": "Python [default]",
   "language": "python",
   "name": "python3"
  },
  "language_info": {
   "codemirror_mode": {
    "name": "ipython",
    "version": 3
   },
   "file_extension": ".py",
   "mimetype": "text/x-python",
   "name": "python",
   "nbconvert_exporter": "python",
   "pygments_lexer": "ipython3",
   "version": "3.5.2"
  }
 },
 "nbformat": 4,
 "nbformat_minor": 1
}
